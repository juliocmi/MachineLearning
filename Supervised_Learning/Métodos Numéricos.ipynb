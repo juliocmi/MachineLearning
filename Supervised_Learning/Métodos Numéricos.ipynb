{
 "cells": [
  {
   "cell_type": "markdown",
   "metadata": {},
   "source": [
    "# Predicción del Valor del Mercado, RustyBargain\n",
    "\n",
    "---\n",
    "\n",
    "**Notebook by:** \n",
    "\n",
    "Data Scientist: Julio César Martínez I.\n",
    "\n",
    "\n",
    "# Tabla de Contenido\n",
    "\n",
    "---\n",
    "\n",
    "1. Introducción.\n",
    "2. Licencia.\n",
    "3. Librerías Requeridas.\n",
    "4. Definición del Problema.\n",
    "5. Respuesta de la Problemática.\n",
    "6. Etapa Uno: Preparación de los Datos.\n",
    "7. Etapa Dos: Entrenamiento del Modelo.\n",
    "8. Etapa Tres: Análisis del Modelo.\n",
    "9. Conclusiones.\n",
    "10. Bibliografía.\n",
    "11. Agradecimientos."
   ]
  },
  {
   "cell_type": "markdown",
   "metadata": {},
   "source": [
    "## || Introducción.\n",
    "---\n",
    "\n",
    "Las app son una gran fuente de datos que permiten obtener información de valor sobre los distintos perfiles de usuarios que las utilizan, así como de su comportamiento en el entorno de la app. También son muy utilizadas por las empresas para obtener y procesar datos sobre sus procesos de manera eficiente. \n",
    "\n",
    "Medir y analizar toda esta información es clave para generar estrategias que permitan el aumento del tiempo de uso en la app, la mejora de las recomendaciones de compra o procesos empresariales, el aumento de las ventas, de la adaptación de los productos/servicios al usuario o la visualización de anuncios, entre muchas otras.\n",
    "\n",
    "Esto último es el caso de nuestro proyecto que desarrollaremos a continuación."
   ]
  },
  {
   "cell_type": "markdown",
   "metadata": {},
   "source": [
    "## || Licencia.\n",
    "---"
   ]
  },
  {
   "cell_type": "markdown",
   "metadata": {},
   "source": [
    "Copyright @2023 by Julio César Martínez Izaguirre\n",
    "\n",
    "Licensed under the Apache License, Version 2.0 (the \"License\");\n",
    "you may not use this file except in compliance with the License.\n",
    "You may obtain a copy of the License at\n",
    "\n",
    "    http://www.apache.org/licenses/LICENSE-2.0\n",
    "\n",
    "Unless required by applicable law or agreed to in writing, software\n",
    "distributed under the License is distributed on an \"AS IS\" BASIS,\n",
    "WITHOUT WARRANTIES OR CONDITIONS OF ANY KIND, either express or implied.\n",
    "See the License for the specific language governing permissions and\n",
    "limitations under the License\n"
   ]
  },
  {
   "cell_type": "markdown",
   "metadata": {},
   "source": [
    "## || Librerías Requeridas.\n",
    "\n",
    "---\n",
    "\n",
    "Para este proyecto en este nootebook utilizamos diferentes librerías de python como son:\n",
    "\n",
    "- Pandas.\n",
    "- NumPy.\n",
    "- Matplotlib.\n",
    "- Seaborn.\n",
    "- Scikit-Learn.\n",
    "- LightGBM.\n",
    "- CatBoost.\n",
    "- XGBoost."
   ]
  },
  {
   "cell_type": "markdown",
   "metadata": {},
   "source": [
    "## || Definición del Problema\n",
    "---\n",
    "\n",
    "El servicio de venta de autos usados Rusty Bargain está desarrollando una aplicación para atraer nuevos clientes. Gracias a esa app, puedes averiguar rápidamente el valor de mercado de tu coche. Tienes acceso al historial: especificaciones técnicas, versiones de equipamiento y precios. Tienes que crear un modelo que determine el valor de mercado.\n",
    "A Rusty Bargain le interesa:\n",
    "- la calidad de la predicción;\n",
    "- la velocidad de la predicción;\n",
    "- el tiempo requerido para el entrenamiento"
   ]
  },
  {
   "cell_type": "markdown",
   "metadata": {},
   "source": [
    "## || Respuesta\n",
    "---\n",
    "\n",
    "Para resolver este proyecto vamos a entrenar diferentes modelos que a su vez se compongan con diversos hiperparámetros (al menos dos modelos diferentes, pero más es mejor. \n",
    "\n",
    "El punto principal es comparar métodos de potenciación del gradiente con bosque aleatorio, árbol de decisión y regresión lineal."
   ]
  },
  {
   "cell_type": "markdown",
   "metadata": {},
   "source": [
    "## || Etapa Uno: Preparación de datos\n",
    "---"
   ]
  },
  {
   "cell_type": "markdown",
   "metadata": {},
   "source": [
    "Importamos librerías"
   ]
  },
  {
   "cell_type": "code",
   "execution_count": 1,
   "metadata": {},
   "outputs": [
    {
     "name": "stdout",
     "output_type": "stream",
     "text": [
      "Pandas Version:       1.2.4\n",
      "Numpy Version :       1.21.1\n",
      "Seaborn Versión:      0.11.1\n",
      "Scikit-Learn Version: 0.24.1\n",
      "LightGBM Version:     3.3.1\n"
     ]
    }
   ],
   "source": [
    "import time\n",
    "import pandas as pd\n",
    "import numpy as np\n",
    "import matplotlib.pyplot as plt\n",
    "import seaborn as sns\n",
    "import sklearn\n",
    "import lightgbm\n",
    "import catboost\n",
    "import xgboost\n",
    "\n",
    "from sklearn.preprocessing import MaxAbsScaler, OrdinalEncoder, OneHotEncoder, StandardScaler\n",
    "from sklearn.model_selection import train_test_split, GridSearchCV\n",
    "from sklearn.datasets import make_regression\n",
    "from sklearn.linear_model import LinearRegression, Lasso\n",
    "from sklearn.ensemble import RandomForestRegressor\n",
    "from sklearn.metrics import mean_squared_error\n",
    "from lightgbm import LGBMRegressor\n",
    "from catboost import CatBoostRegressor\n",
    "from xgboost import XGBRegressor\n",
    "\n",
    "pd.options.display.max_rows = 200\n",
    "%matplotlib inline\n",
    "\n",
    "start_time = time.time()\n",
    "\n",
    "print(\"Pandas Version:      \", pd.__version__)\n",
    "print(\"Numpy Version :      \", np.__version__)\n",
    "print(\"Seaborn Versión:     \", sns.__version__)\n",
    "print(\"Scikit-Learn Version:\", sklearn.__version__)\n",
    "print(\"LightGBM Version:    \", lightgbm.__version__)"
   ]
  },
  {
   "cell_type": "markdown",
   "metadata": {},
   "source": [
    "Cargamos Dataframe"
   ]
  },
  {
   "cell_type": "code",
   "execution_count": 2,
   "metadata": {},
   "outputs": [],
   "source": [
    "rb_df = pd.read_csv('/datasets/car_data.csv', parse_dates=['DateCrawled', 'DateCreated','LastSeen'])"
   ]
  },
  {
   "cell_type": "markdown",
   "metadata": {},
   "source": [
    "### Análisis Exploratorio"
   ]
  },
  {
   "cell_type": "markdown",
   "metadata": {},
   "source": [
    "Mostramos primera y últimas filas."
   ]
  },
  {
   "cell_type": "code",
   "execution_count": 3,
   "metadata": {},
   "outputs": [
    {
     "data": {
      "text/html": [
       "<div>\n",
       "<style scoped>\n",
       "    .dataframe tbody tr th:only-of-type {\n",
       "        vertical-align: middle;\n",
       "    }\n",
       "\n",
       "    .dataframe tbody tr th {\n",
       "        vertical-align: top;\n",
       "    }\n",
       "\n",
       "    .dataframe thead th {\n",
       "        text-align: right;\n",
       "    }\n",
       "</style>\n",
       "<table border=\"1\" class=\"dataframe\">\n",
       "  <thead>\n",
       "    <tr style=\"text-align: right;\">\n",
       "      <th></th>\n",
       "      <th>DateCrawled</th>\n",
       "      <th>Price</th>\n",
       "      <th>VehicleType</th>\n",
       "      <th>RegistrationYear</th>\n",
       "      <th>Gearbox</th>\n",
       "      <th>Power</th>\n",
       "      <th>Model</th>\n",
       "      <th>Mileage</th>\n",
       "      <th>RegistrationMonth</th>\n",
       "      <th>FuelType</th>\n",
       "      <th>Brand</th>\n",
       "      <th>NotRepaired</th>\n",
       "      <th>DateCreated</th>\n",
       "      <th>NumberOfPictures</th>\n",
       "      <th>PostalCode</th>\n",
       "      <th>LastSeen</th>\n",
       "    </tr>\n",
       "  </thead>\n",
       "  <tbody>\n",
       "    <tr>\n",
       "      <th>0</th>\n",
       "      <td>2016-03-24 11:52:00</td>\n",
       "      <td>480</td>\n",
       "      <td>NaN</td>\n",
       "      <td>1993</td>\n",
       "      <td>manual</td>\n",
       "      <td>0</td>\n",
       "      <td>golf</td>\n",
       "      <td>150000</td>\n",
       "      <td>0</td>\n",
       "      <td>petrol</td>\n",
       "      <td>volkswagen</td>\n",
       "      <td>NaN</td>\n",
       "      <td>2016-03-24</td>\n",
       "      <td>0</td>\n",
       "      <td>70435</td>\n",
       "      <td>2016-07-04 03:16:00</td>\n",
       "    </tr>\n",
       "    <tr>\n",
       "      <th>1</th>\n",
       "      <td>2016-03-24 10:58:00</td>\n",
       "      <td>18300</td>\n",
       "      <td>coupe</td>\n",
       "      <td>2011</td>\n",
       "      <td>manual</td>\n",
       "      <td>190</td>\n",
       "      <td>NaN</td>\n",
       "      <td>125000</td>\n",
       "      <td>5</td>\n",
       "      <td>gasoline</td>\n",
       "      <td>audi</td>\n",
       "      <td>yes</td>\n",
       "      <td>2016-03-24</td>\n",
       "      <td>0</td>\n",
       "      <td>66954</td>\n",
       "      <td>2016-07-04 01:46:00</td>\n",
       "    </tr>\n",
       "    <tr>\n",
       "      <th>2</th>\n",
       "      <td>2016-03-14 12:52:00</td>\n",
       "      <td>9800</td>\n",
       "      <td>suv</td>\n",
       "      <td>2004</td>\n",
       "      <td>auto</td>\n",
       "      <td>163</td>\n",
       "      <td>grand</td>\n",
       "      <td>125000</td>\n",
       "      <td>8</td>\n",
       "      <td>gasoline</td>\n",
       "      <td>jeep</td>\n",
       "      <td>NaN</td>\n",
       "      <td>2016-03-14</td>\n",
       "      <td>0</td>\n",
       "      <td>90480</td>\n",
       "      <td>2016-05-04 12:47:00</td>\n",
       "    </tr>\n",
       "    <tr>\n",
       "      <th>3</th>\n",
       "      <td>2016-03-17 16:54:00</td>\n",
       "      <td>1500</td>\n",
       "      <td>small</td>\n",
       "      <td>2001</td>\n",
       "      <td>manual</td>\n",
       "      <td>75</td>\n",
       "      <td>golf</td>\n",
       "      <td>150000</td>\n",
       "      <td>6</td>\n",
       "      <td>petrol</td>\n",
       "      <td>volkswagen</td>\n",
       "      <td>no</td>\n",
       "      <td>2016-03-17</td>\n",
       "      <td>0</td>\n",
       "      <td>91074</td>\n",
       "      <td>2016-03-17 17:40:00</td>\n",
       "    </tr>\n",
       "    <tr>\n",
       "      <th>4</th>\n",
       "      <td>2016-03-31 17:25:00</td>\n",
       "      <td>3600</td>\n",
       "      <td>small</td>\n",
       "      <td>2008</td>\n",
       "      <td>manual</td>\n",
       "      <td>69</td>\n",
       "      <td>fabia</td>\n",
       "      <td>90000</td>\n",
       "      <td>7</td>\n",
       "      <td>gasoline</td>\n",
       "      <td>skoda</td>\n",
       "      <td>no</td>\n",
       "      <td>2016-03-31</td>\n",
       "      <td>0</td>\n",
       "      <td>60437</td>\n",
       "      <td>2016-06-04 10:17:00</td>\n",
       "    </tr>\n",
       "  </tbody>\n",
       "</table>\n",
       "</div>"
      ],
      "text/plain": [
       "          DateCrawled  Price VehicleType  RegistrationYear Gearbox  Power  \\\n",
       "0 2016-03-24 11:52:00    480         NaN              1993  manual      0   \n",
       "1 2016-03-24 10:58:00  18300       coupe              2011  manual    190   \n",
       "2 2016-03-14 12:52:00   9800         suv              2004    auto    163   \n",
       "3 2016-03-17 16:54:00   1500       small              2001  manual     75   \n",
       "4 2016-03-31 17:25:00   3600       small              2008  manual     69   \n",
       "\n",
       "   Model  Mileage  RegistrationMonth  FuelType       Brand NotRepaired  \\\n",
       "0   golf   150000                  0    petrol  volkswagen         NaN   \n",
       "1    NaN   125000                  5  gasoline        audi         yes   \n",
       "2  grand   125000                  8  gasoline        jeep         NaN   \n",
       "3   golf   150000                  6    petrol  volkswagen          no   \n",
       "4  fabia    90000                  7  gasoline       skoda          no   \n",
       "\n",
       "  DateCreated  NumberOfPictures  PostalCode            LastSeen  \n",
       "0  2016-03-24                 0       70435 2016-07-04 03:16:00  \n",
       "1  2016-03-24                 0       66954 2016-07-04 01:46:00  \n",
       "2  2016-03-14                 0       90480 2016-05-04 12:47:00  \n",
       "3  2016-03-17                 0       91074 2016-03-17 17:40:00  \n",
       "4  2016-03-31                 0       60437 2016-06-04 10:17:00  "
      ]
     },
     "execution_count": 3,
     "metadata": {},
     "output_type": "execute_result"
    }
   ],
   "source": [
    "rb_df.head()"
   ]
  },
  {
   "cell_type": "code",
   "execution_count": 4,
   "metadata": {},
   "outputs": [
    {
     "data": {
      "text/html": [
       "<div>\n",
       "<style scoped>\n",
       "    .dataframe tbody tr th:only-of-type {\n",
       "        vertical-align: middle;\n",
       "    }\n",
       "\n",
       "    .dataframe tbody tr th {\n",
       "        vertical-align: top;\n",
       "    }\n",
       "\n",
       "    .dataframe thead th {\n",
       "        text-align: right;\n",
       "    }\n",
       "</style>\n",
       "<table border=\"1\" class=\"dataframe\">\n",
       "  <thead>\n",
       "    <tr style=\"text-align: right;\">\n",
       "      <th></th>\n",
       "      <th>DateCrawled</th>\n",
       "      <th>Price</th>\n",
       "      <th>VehicleType</th>\n",
       "      <th>RegistrationYear</th>\n",
       "      <th>Gearbox</th>\n",
       "      <th>Power</th>\n",
       "      <th>Model</th>\n",
       "      <th>Mileage</th>\n",
       "      <th>RegistrationMonth</th>\n",
       "      <th>FuelType</th>\n",
       "      <th>Brand</th>\n",
       "      <th>NotRepaired</th>\n",
       "      <th>DateCreated</th>\n",
       "      <th>NumberOfPictures</th>\n",
       "      <th>PostalCode</th>\n",
       "      <th>LastSeen</th>\n",
       "    </tr>\n",
       "  </thead>\n",
       "  <tbody>\n",
       "    <tr>\n",
       "      <th>354364</th>\n",
       "      <td>2016-03-21 09:50:00</td>\n",
       "      <td>0</td>\n",
       "      <td>NaN</td>\n",
       "      <td>2005</td>\n",
       "      <td>manual</td>\n",
       "      <td>0</td>\n",
       "      <td>colt</td>\n",
       "      <td>150000</td>\n",
       "      <td>7</td>\n",
       "      <td>petrol</td>\n",
       "      <td>mitsubishi</td>\n",
       "      <td>yes</td>\n",
       "      <td>2016-03-21</td>\n",
       "      <td>0</td>\n",
       "      <td>2694</td>\n",
       "      <td>2016-03-21 10:42:00</td>\n",
       "    </tr>\n",
       "    <tr>\n",
       "      <th>354365</th>\n",
       "      <td>2016-03-14 17:48:00</td>\n",
       "      <td>2200</td>\n",
       "      <td>NaN</td>\n",
       "      <td>2005</td>\n",
       "      <td>NaN</td>\n",
       "      <td>0</td>\n",
       "      <td>NaN</td>\n",
       "      <td>20000</td>\n",
       "      <td>1</td>\n",
       "      <td>NaN</td>\n",
       "      <td>sonstige_autos</td>\n",
       "      <td>NaN</td>\n",
       "      <td>2016-03-14</td>\n",
       "      <td>0</td>\n",
       "      <td>39576</td>\n",
       "      <td>2016-06-04 00:46:00</td>\n",
       "    </tr>\n",
       "    <tr>\n",
       "      <th>354366</th>\n",
       "      <td>2016-05-03 19:56:00</td>\n",
       "      <td>1199</td>\n",
       "      <td>convertible</td>\n",
       "      <td>2000</td>\n",
       "      <td>auto</td>\n",
       "      <td>101</td>\n",
       "      <td>fortwo</td>\n",
       "      <td>125000</td>\n",
       "      <td>3</td>\n",
       "      <td>petrol</td>\n",
       "      <td>smart</td>\n",
       "      <td>no</td>\n",
       "      <td>2016-05-03</td>\n",
       "      <td>0</td>\n",
       "      <td>26135</td>\n",
       "      <td>2016-11-03 18:17:00</td>\n",
       "    </tr>\n",
       "    <tr>\n",
       "      <th>354367</th>\n",
       "      <td>2016-03-19 18:57:00</td>\n",
       "      <td>9200</td>\n",
       "      <td>bus</td>\n",
       "      <td>1996</td>\n",
       "      <td>manual</td>\n",
       "      <td>102</td>\n",
       "      <td>transporter</td>\n",
       "      <td>150000</td>\n",
       "      <td>3</td>\n",
       "      <td>gasoline</td>\n",
       "      <td>volkswagen</td>\n",
       "      <td>no</td>\n",
       "      <td>2016-03-19</td>\n",
       "      <td>0</td>\n",
       "      <td>87439</td>\n",
       "      <td>2016-07-04 07:15:00</td>\n",
       "    </tr>\n",
       "    <tr>\n",
       "      <th>354368</th>\n",
       "      <td>2016-03-20 19:41:00</td>\n",
       "      <td>3400</td>\n",
       "      <td>wagon</td>\n",
       "      <td>2002</td>\n",
       "      <td>manual</td>\n",
       "      <td>100</td>\n",
       "      <td>golf</td>\n",
       "      <td>150000</td>\n",
       "      <td>6</td>\n",
       "      <td>gasoline</td>\n",
       "      <td>volkswagen</td>\n",
       "      <td>NaN</td>\n",
       "      <td>2016-03-20</td>\n",
       "      <td>0</td>\n",
       "      <td>40764</td>\n",
       "      <td>2016-03-24 12:45:00</td>\n",
       "    </tr>\n",
       "  </tbody>\n",
       "</table>\n",
       "</div>"
      ],
      "text/plain": [
       "               DateCrawled  Price  VehicleType  RegistrationYear Gearbox  \\\n",
       "354364 2016-03-21 09:50:00      0          NaN              2005  manual   \n",
       "354365 2016-03-14 17:48:00   2200          NaN              2005     NaN   \n",
       "354366 2016-05-03 19:56:00   1199  convertible              2000    auto   \n",
       "354367 2016-03-19 18:57:00   9200          bus              1996  manual   \n",
       "354368 2016-03-20 19:41:00   3400        wagon              2002  manual   \n",
       "\n",
       "        Power        Model  Mileage  RegistrationMonth  FuelType  \\\n",
       "354364      0         colt   150000                  7    petrol   \n",
       "354365      0          NaN    20000                  1       NaN   \n",
       "354366    101       fortwo   125000                  3    petrol   \n",
       "354367    102  transporter   150000                  3  gasoline   \n",
       "354368    100         golf   150000                  6  gasoline   \n",
       "\n",
       "                 Brand NotRepaired DateCreated  NumberOfPictures  PostalCode  \\\n",
       "354364      mitsubishi         yes  2016-03-21                 0        2694   \n",
       "354365  sonstige_autos         NaN  2016-03-14                 0       39576   \n",
       "354366           smart          no  2016-05-03                 0       26135   \n",
       "354367      volkswagen          no  2016-03-19                 0       87439   \n",
       "354368      volkswagen         NaN  2016-03-20                 0       40764   \n",
       "\n",
       "                  LastSeen  \n",
       "354364 2016-03-21 10:42:00  \n",
       "354365 2016-06-04 00:46:00  \n",
       "354366 2016-11-03 18:17:00  \n",
       "354367 2016-07-04 07:15:00  \n",
       "354368 2016-03-24 12:45:00  "
      ]
     },
     "execution_count": 4,
     "metadata": {},
     "output_type": "execute_result"
    }
   ],
   "source": [
    "rb_df.tail()"
   ]
  },
  {
   "cell_type": "code",
   "execution_count": 5,
   "metadata": {},
   "outputs": [
    {
     "name": "stdout",
     "output_type": "stream",
     "text": [
      "Total de Columnas en el Dataset: 16\n",
      "Total de Filas en el Dataset:    354369\n"
     ]
    }
   ],
   "source": [
    "print(\"Total de Columnas en el Dataset:\", rb_df.shape[1])\n",
    "print(\"Total de Filas en el Dataset:   \", rb_df.shape[0])"
   ]
  },
  {
   "cell_type": "markdown",
   "metadata": {},
   "source": [
    "En una primera impresión podemos ver que hay un error con el nombre de las columnas debido a que la letra inicial está escrita con mayúsuclas, vamos a cambiarlas por algo más apropiado."
   ]
  },
  {
   "cell_type": "code",
   "execution_count": 6,
   "metadata": {},
   "outputs": [],
   "source": [
    "rb_df = rb_df.rename(columns={'DateCrawled': 'date_crawled',\n",
    "                        'Price'            : 'price',\n",
    "                        'VehicleType'      : 'vehicle_type',\n",
    "                        'RegistrationYear' : 'registration_year',\n",
    "                        'Gearbox'          : 'gearbox',\n",
    "                        'Power'            : 'power',\n",
    "                        'Model'            : 'model',\n",
    "                        'Mileage'          : 'mileage',\n",
    "                        'RegistrationMonth': 'registration_month',\n",
    "                        'FuelType'         : 'fuel_type',\n",
    "                        'Brand'            : 'brand',\n",
    "                        'NotRepaired'      : 'not_repaired',\n",
    "                        'DateCreated'      : 'date_created',\n",
    "                        'NumberOfPictures' : 'number_of_pictures',\n",
    "                        'PostalCode'       : 'postal_code',\n",
    "                        'LastSeen'         : 'last_seen'})"
   ]
  },
  {
   "cell_type": "code",
   "execution_count": 7,
   "metadata": {
    "scrolled": true
   },
   "outputs": [
    {
     "data": {
      "text/plain": [
       "['date_crawled',\n",
       " 'price',\n",
       " 'vehicle_type',\n",
       " 'registration_year',\n",
       " 'gearbox',\n",
       " 'power',\n",
       " 'model',\n",
       " 'mileage',\n",
       " 'registration_month',\n",
       " 'fuel_type',\n",
       " 'brand',\n",
       " 'not_repaired',\n",
       " 'date_created',\n",
       " 'number_of_pictures',\n",
       " 'postal_code',\n",
       " 'last_seen']"
      ]
     },
     "execution_count": 7,
     "metadata": {},
     "output_type": "execute_result"
    }
   ],
   "source": [
    "rb_df.columns.to_list()"
   ]
  },
  {
   "cell_type": "markdown",
   "metadata": {},
   "source": [
    "Hay un problema con las columnas que incluyen fechas. \n",
    "\n",
    "Cambiamos de `objet` a `datetime`"
   ]
  },
  {
   "cell_type": "code",
   "execution_count": 8,
   "metadata": {},
   "outputs": [],
   "source": [
    "#rb_df['date_crawled'] = pd.to_datetime(rb_df['date_crawled'])\n",
    "#rb_df['date_created'] = pd.to_datetime(rb_df['date_created'])\n",
    "#rb_df['last_seen']    = pd.to_datetime(rb_df['last_seen'])"
   ]
  },
  {
   "cell_type": "markdown",
   "metadata": {},
   "source": [
    "Verificamos cambios"
   ]
  },
  {
   "cell_type": "code",
   "execution_count": 9,
   "metadata": {},
   "outputs": [
    {
     "data": {
      "text/plain": [
       "date_crawled          datetime64[ns]\n",
       "price                          int64\n",
       "vehicle_type                  object\n",
       "registration_year              int64\n",
       "gearbox                       object\n",
       "power                          int64\n",
       "model                         object\n",
       "mileage                        int64\n",
       "registration_month             int64\n",
       "fuel_type                     object\n",
       "brand                         object\n",
       "not_repaired                  object\n",
       "date_created          datetime64[ns]\n",
       "number_of_pictures             int64\n",
       "postal_code                    int64\n",
       "last_seen             datetime64[ns]\n",
       "dtype: object"
      ]
     },
     "execution_count": 9,
     "metadata": {},
     "output_type": "execute_result"
    }
   ],
   "source": [
    "rb_df.dtypes"
   ]
  },
  {
   "cell_type": "markdown",
   "metadata": {},
   "source": [
    "Revisamos **Valores Duplicados**"
   ]
  },
  {
   "cell_type": "code",
   "execution_count": 10,
   "metadata": {},
   "outputs": [
    {
     "data": {
      "text/plain": [
       "262"
      ]
     },
     "execution_count": 10,
     "metadata": {},
     "output_type": "execute_result"
    }
   ],
   "source": [
    "rb_df.duplicated().sum()"
   ]
  },
  {
   "cell_type": "markdown",
   "metadata": {},
   "source": [
    "Corregimos y eliminamos"
   ]
  },
  {
   "cell_type": "code",
   "execution_count": 11,
   "metadata": {},
   "outputs": [],
   "source": [
    "rb_df = rb_df.drop_duplicates().reset_index(drop=True)"
   ]
  },
  {
   "cell_type": "markdown",
   "metadata": {},
   "source": [
    "Comprobamos los cambios"
   ]
  },
  {
   "cell_type": "code",
   "execution_count": 12,
   "metadata": {},
   "outputs": [
    {
     "data": {
      "text/plain": [
       "0"
      ]
     },
     "execution_count": 12,
     "metadata": {},
     "output_type": "execute_result"
    }
   ],
   "source": [
    "rb_df.duplicated().sum()"
   ]
  },
  {
   "cell_type": "markdown",
   "metadata": {},
   "source": [
    "Revisión de **Datos Nulos/Ausentes**"
   ]
  },
  {
   "cell_type": "code",
   "execution_count": 13,
   "metadata": {
    "scrolled": true
   },
   "outputs": [
    {
     "data": {
      "text/plain": [
       "date_crawled              0\n",
       "price                     0\n",
       "vehicle_type          37484\n",
       "registration_year         0\n",
       "gearbox               19830\n",
       "power                     0\n",
       "model                 19701\n",
       "mileage                   0\n",
       "registration_month        0\n",
       "fuel_type             32889\n",
       "brand                     0\n",
       "not_repaired          71145\n",
       "date_created              0\n",
       "number_of_pictures        0\n",
       "postal_code               0\n",
       "last_seen                 0\n",
       "dtype: int64"
      ]
     },
     "execution_count": 13,
     "metadata": {},
     "output_type": "execute_result"
    }
   ],
   "source": [
    "rb_df.isna().sum()"
   ]
  },
  {
   "cell_type": "markdown",
   "metadata": {},
   "source": [
    "Distribución de nulos"
   ]
  },
  {
   "cell_type": "code",
   "execution_count": 14,
   "metadata": {},
   "outputs": [
    {
     "name": "stdout",
     "output_type": "stream",
     "text": [
      "La distribución de nulos en vehicle_type es:  10.59%\n",
      "La distribución de nulos en gearbox es:       5.60%\n",
      "La distribución de nulos en model es:         5.56%\n",
      "La distribución de nulos en fuel_type es:     9.29%\n",
      "La distribución de nulos en not_repaired es:  20.09%\n"
     ]
    }
   ],
   "source": [
    "vehicle_type_null = 100*(rb_df['vehicle_type'].isna().sum() / rb_df.shape[0])\n",
    "gearbox_null      = 100*(rb_df['gearbox'].isna().sum() / rb_df.shape[0])\n",
    "model_null        = 100*(rb_df['model'].isna().sum() / rb_df.shape[0])\n",
    "fuel_type_null    = 100*(rb_df['fuel_type'].isna().sum() / rb_df.shape[0])\n",
    "not_repaired_null = 100*(rb_df['not_repaired'].isna().sum() / rb_df.shape[0])\n",
    "\n",
    "print(f'La distribución de nulos en vehicle_type es:  {vehicle_type_null:.2f}%')\n",
    "print(f'La distribución de nulos en gearbox es:       {gearbox_null:.2f}%')\n",
    "print(f'La distribución de nulos en model es:         {model_null:.2f}%')\n",
    "print(f'La distribución de nulos en fuel_type es:     {fuel_type_null:.2f}%')\n",
    "print(f'La distribución de nulos en not_repaired es:  {not_repaired_null:.2f}%')"
   ]
  },
  {
   "cell_type": "markdown",
   "metadata": {},
   "source": [
    "Algunas estadísticas sobre las columnas que tienen datos nulos"
   ]
  },
  {
   "cell_type": "code",
   "execution_count": 15,
   "metadata": {
    "scrolled": false
   },
   "outputs": [
    {
     "name": "stdout",
     "output_type": "stream",
     "text": [
      "vehicle_type\n",
      "\n",
      "count     316623\n",
      "unique         8\n",
      "top        sedan\n",
      "freq       91399\n",
      "Name: vehicle_type, dtype: object\n",
      "----------------------------\n",
      "gearbox\n",
      "\n",
      "count     334277\n",
      "unique         2\n",
      "top       manual\n",
      "freq      268034\n",
      "Name: gearbox, dtype: object\n",
      "----------------------------\n",
      "model\n",
      "\n",
      "count     334406\n",
      "unique       250\n",
      "top         golf\n",
      "freq       29215\n",
      "Name: model, dtype: object\n",
      "----------------------------\n",
      "fuel_type\n",
      "\n",
      "count     321218\n",
      "unique         7\n",
      "top       petrol\n",
      "freq      216161\n",
      "Name: fuel_type, dtype: object\n",
      "----------------------------\n",
      "not_repaired\n",
      "\n",
      "count     282962\n",
      "unique         2\n",
      "top           no\n",
      "freq      246927\n",
      "Name: not_repaired, dtype: object\n",
      "----------------------------\n"
     ]
    }
   ],
   "source": [
    "nulls = ['vehicle_type','gearbox', 'model', 'fuel_type', 'not_repaired']\n",
    "\n",
    "for col in nulls:\n",
    "    print(col)\n",
    "    print()\n",
    "    print(rb_df[col].describe())\n",
    "    print('----------------------------')"
   ]
  },
  {
   "cell_type": "markdown",
   "metadata": {},
   "source": [
    "Imputamos utilizando la frecuencia."
   ]
  },
  {
   "cell_type": "code",
   "execution_count": 16,
   "metadata": {},
   "outputs": [],
   "source": [
    "rb_df['vehicle_type'] = rb_df['vehicle_type'].fillna('sedan')\n",
    "rb_df['gearbox']      = rb_df['gearbox'].fillna('manual')\n",
    "rb_df['model']        = rb_df['model'].fillna('golf')\n",
    "rb_df['fuel_type']    = rb_df['fuel_type'].fillna('petrol')\n",
    "rb_df['not_repaired'] = rb_df['not_repaired'].fillna('no')"
   ]
  },
  {
   "cell_type": "markdown",
   "metadata": {},
   "source": [
    "Verificamos cambios"
   ]
  },
  {
   "cell_type": "code",
   "execution_count": 17,
   "metadata": {
    "scrolled": false
   },
   "outputs": [
    {
     "data": {
      "text/plain": [
       "date_crawled          0\n",
       "price                 0\n",
       "vehicle_type          0\n",
       "registration_year     0\n",
       "gearbox               0\n",
       "power                 0\n",
       "model                 0\n",
       "mileage               0\n",
       "registration_month    0\n",
       "fuel_type             0\n",
       "brand                 0\n",
       "not_repaired          0\n",
       "date_created          0\n",
       "number_of_pictures    0\n",
       "postal_code           0\n",
       "last_seen             0\n",
       "dtype: int64"
      ]
     },
     "execution_count": 17,
     "metadata": {},
     "output_type": "execute_result"
    }
   ],
   "source": [
    "rb_df.isnull().sum()"
   ]
  },
  {
   "cell_type": "markdown",
   "metadata": {},
   "source": [
    "### Análisis Estadístico"
   ]
  },
  {
   "cell_type": "markdown",
   "metadata": {},
   "source": [
    "Las variables categóricas han sido tratadas correctamente. Ahora en esta sección vamos a explorar un poco más a fondo las variables numéricas y averiguar si debemos cambiar algo."
   ]
  },
  {
   "cell_type": "code",
   "execution_count": 18,
   "metadata": {},
   "outputs": [
    {
     "data": {
      "text/html": [
       "<div>\n",
       "<style scoped>\n",
       "    .dataframe tbody tr th:only-of-type {\n",
       "        vertical-align: middle;\n",
       "    }\n",
       "\n",
       "    .dataframe tbody tr th {\n",
       "        vertical-align: top;\n",
       "    }\n",
       "\n",
       "    .dataframe thead th {\n",
       "        text-align: right;\n",
       "    }\n",
       "</style>\n",
       "<table border=\"1\" class=\"dataframe\">\n",
       "  <thead>\n",
       "    <tr style=\"text-align: right;\">\n",
       "      <th></th>\n",
       "      <th>price</th>\n",
       "      <th>registration_year</th>\n",
       "      <th>power</th>\n",
       "      <th>mileage</th>\n",
       "      <th>registration_month</th>\n",
       "      <th>number_of_pictures</th>\n",
       "      <th>postal_code</th>\n",
       "    </tr>\n",
       "  </thead>\n",
       "  <tbody>\n",
       "    <tr>\n",
       "      <th>count</th>\n",
       "      <td>354107.000000</td>\n",
       "      <td>354107.000000</td>\n",
       "      <td>354107.000000</td>\n",
       "      <td>354107.000000</td>\n",
       "      <td>354107.000000</td>\n",
       "      <td>354107.0</td>\n",
       "      <td>354107.000000</td>\n",
       "    </tr>\n",
       "    <tr>\n",
       "      <th>mean</th>\n",
       "      <td>4416.433287</td>\n",
       "      <td>2004.235355</td>\n",
       "      <td>110.089651</td>\n",
       "      <td>128211.811684</td>\n",
       "      <td>5.714182</td>\n",
       "      <td>0.0</td>\n",
       "      <td>50507.145030</td>\n",
       "    </tr>\n",
       "    <tr>\n",
       "      <th>std</th>\n",
       "      <td>4514.338584</td>\n",
       "      <td>90.261168</td>\n",
       "      <td>189.914972</td>\n",
       "      <td>37906.590101</td>\n",
       "      <td>3.726682</td>\n",
       "      <td>0.0</td>\n",
       "      <td>25784.212094</td>\n",
       "    </tr>\n",
       "    <tr>\n",
       "      <th>min</th>\n",
       "      <td>0.000000</td>\n",
       "      <td>1000.000000</td>\n",
       "      <td>0.000000</td>\n",
       "      <td>5000.000000</td>\n",
       "      <td>0.000000</td>\n",
       "      <td>0.0</td>\n",
       "      <td>1067.000000</td>\n",
       "    </tr>\n",
       "    <tr>\n",
       "      <th>25%</th>\n",
       "      <td>1050.000000</td>\n",
       "      <td>1999.000000</td>\n",
       "      <td>69.000000</td>\n",
       "      <td>125000.000000</td>\n",
       "      <td>3.000000</td>\n",
       "      <td>0.0</td>\n",
       "      <td>30165.000000</td>\n",
       "    </tr>\n",
       "    <tr>\n",
       "      <th>50%</th>\n",
       "      <td>2700.000000</td>\n",
       "      <td>2003.000000</td>\n",
       "      <td>105.000000</td>\n",
       "      <td>150000.000000</td>\n",
       "      <td>6.000000</td>\n",
       "      <td>0.0</td>\n",
       "      <td>49406.000000</td>\n",
       "    </tr>\n",
       "    <tr>\n",
       "      <th>75%</th>\n",
       "      <td>6400.000000</td>\n",
       "      <td>2008.000000</td>\n",
       "      <td>143.000000</td>\n",
       "      <td>150000.000000</td>\n",
       "      <td>9.000000</td>\n",
       "      <td>0.0</td>\n",
       "      <td>71083.000000</td>\n",
       "    </tr>\n",
       "    <tr>\n",
       "      <th>max</th>\n",
       "      <td>20000.000000</td>\n",
       "      <td>9999.000000</td>\n",
       "      <td>20000.000000</td>\n",
       "      <td>150000.000000</td>\n",
       "      <td>12.000000</td>\n",
       "      <td>0.0</td>\n",
       "      <td>99998.000000</td>\n",
       "    </tr>\n",
       "  </tbody>\n",
       "</table>\n",
       "</div>"
      ],
      "text/plain": [
       "               price  registration_year          power        mileage  \\\n",
       "count  354107.000000      354107.000000  354107.000000  354107.000000   \n",
       "mean     4416.433287        2004.235355     110.089651  128211.811684   \n",
       "std      4514.338584          90.261168     189.914972   37906.590101   \n",
       "min         0.000000        1000.000000       0.000000    5000.000000   \n",
       "25%      1050.000000        1999.000000      69.000000  125000.000000   \n",
       "50%      2700.000000        2003.000000     105.000000  150000.000000   \n",
       "75%      6400.000000        2008.000000     143.000000  150000.000000   \n",
       "max     20000.000000        9999.000000   20000.000000  150000.000000   \n",
       "\n",
       "       registration_month  number_of_pictures    postal_code  \n",
       "count       354107.000000            354107.0  354107.000000  \n",
       "mean             5.714182                 0.0   50507.145030  \n",
       "std              3.726682                 0.0   25784.212094  \n",
       "min              0.000000                 0.0    1067.000000  \n",
       "25%              3.000000                 0.0   30165.000000  \n",
       "50%              6.000000                 0.0   49406.000000  \n",
       "75%              9.000000                 0.0   71083.000000  \n",
       "max             12.000000                 0.0   99998.000000  "
      ]
     },
     "execution_count": 18,
     "metadata": {},
     "output_type": "execute_result"
    }
   ],
   "source": [
    "rb_df.describe()"
   ]
  },
  {
   "cell_type": "markdown",
   "metadata": {},
   "source": [
    "Ahora podemos ver que existen algunas inconsistencias en los datos de las columnas: `price`, `registration_year` y `power`"
   ]
  },
  {
   "cell_type": "markdown",
   "metadata": {},
   "source": [
    "**Columna Price**"
   ]
  },
  {
   "cell_type": "code",
   "execution_count": 19,
   "metadata": {},
   "outputs": [
    {
     "data": {
      "text/plain": [
       "0        10770\n",
       "500       5667\n",
       "1500      5391\n",
       "1000      4647\n",
       "1200      4589\n",
       "         ...  \n",
       "13180        1\n",
       "10879        1\n",
       "2683         1\n",
       "634          1\n",
       "8188         1\n",
       "Name: price, Length: 3731, dtype: int64"
      ]
     },
     "execution_count": 19,
     "metadata": {},
     "output_type": "execute_result"
    }
   ],
   "source": [
    "rb_df['price'].value_counts()"
   ]
  },
  {
   "cell_type": "code",
   "execution_count": 20,
   "metadata": {},
   "outputs": [
    {
     "data": {
      "image/png": "[encoded data removed]",
      "text/plain": [
       "<Figure size 432x288 with 1 Axes>"
      ]
     },
     "metadata": {
      "needs_background": "light"
     },
     "output_type": "display_data"
    }
   ],
   "source": [
    "rb_df['price'].hist();"
   ]
  },
  {
   "cell_type": "markdown",
   "metadata": {},
   "source": [
    "Alrededor de 70,000 autos cuestan menos de 500 euros. Esto es un error que debemos corregir para evitar problemas más adelante con nuestro modelo. \n",
    "\n",
    "Vamos a ver cómo podría ser el escenario ideal filtrando los valores atípicos de nuestra columna."
   ]
  },
  {
   "cell_type": "code",
   "execution_count": 21,
   "metadata": {},
   "outputs": [
    {
     "name": "stdout",
     "output_type": "stream",
     "text": [
      "Total de valores atípicos:        36046\n",
      "Distribución de valores atípicos: 10.179409048677378 %\n"
     ]
    },
    {
     "data": {
      "image/png": "[encoded data removed]",
      "text/plain": [
       "<Figure size 432x288 with 1 Axes>"
      ]
     },
     "metadata": {
      "needs_background": "light"
     },
     "output_type": "display_data"
    }
   ],
   "source": [
    "ref = 500\n",
    "price_filter = rb_df.query('price >= @ref')\n",
    "print(\"Total de valores atípicos:       \", rb_df.shape[0] - price_filter['price'].count())\n",
    "print(\"Distribución de valores atípicos:\", 36046/len(rb_df)*100,'%')\n",
    "price_filter['price'].hist();"
   ]
  },
  {
   "cell_type": "code",
   "execution_count": 22,
   "metadata": {},
   "outputs": [
    {
     "name": "stdout",
     "output_type": "stream",
     "text": [
      "El promedio de price filter es: 4895.110459943218\n",
      "La mediana de price filter es:  3200.0\n"
     ]
    }
   ],
   "source": [
    "print(\"El promedio de price filter es:\", price_filter['price'].mean())\n",
    "print(\"La mediana de price filter es: \", price_filter['price'].median())"
   ]
  },
  {
   "cell_type": "markdown",
   "metadata": {},
   "source": [
    "Vamos a sustituir ese 10% de valores atípicos que no brindan información valiosa para nuestro set de datos por la mediana de nuestro set."
   ]
  },
  {
   "cell_type": "code",
   "execution_count": 23,
   "metadata": {},
   "outputs": [],
   "source": [
    "rb_df['price'] = rb_df['price'].mask(rb_df['price'] < 500, 2700)"
   ]
  },
  {
   "cell_type": "markdown",
   "metadata": {},
   "source": [
    "Comprobamos cambios"
   ]
  },
  {
   "cell_type": "code",
   "execution_count": 24,
   "metadata": {},
   "outputs": [
    {
     "name": "stdout",
     "output_type": "stream",
     "text": [
      "2700    37573\n",
      "500      5667\n",
      "1500     5391\n",
      "1000     4647\n",
      "1200     4589\n",
      "        ...  \n",
      "4898        1\n",
      "1209        1\n",
      "3256        1\n",
      "9149        1\n",
      "8188        1\n",
      "Name: price, Length: 3467, dtype: int64\n"
     ]
    },
    {
     "data": {
      "image/png": "[encoded data removed]",
      "text/plain": [
       "<Figure size 432x288 with 1 Axes>"
      ]
     },
     "metadata": {
      "needs_background": "light"
     },
     "output_type": "display_data"
    }
   ],
   "source": [
    "print(rb_df['price'].value_counts())\n",
    "rb_df['price'].hist();"
   ]
  },
  {
   "cell_type": "markdown",
   "metadata": {},
   "source": [
    "**Conclusiones**\n",
    "\n",
    "- Se encontraron problemas en el nombre de las columnas y fueron solucionados.\n",
    "- El tipo de dato en las fechas era object y se corrigio a datetime.\n",
    "- Se eliminaron datos duplicados.\n",
    "- Se imputaron valores nulos por medio de la frecuencia.\n",
    "- Se corrigieron valores atípicos en la `columna price`\n",
    "- Se corrgiieron errores en la columna `registration_year`"
   ]
  },
  {
   "cell_type": "markdown",
   "metadata": {},
   "source": [
    "Revisemos la variable `registration_year`"
   ]
  },
  {
   "cell_type": "code",
   "execution_count": 25,
   "metadata": {},
   "outputs": [
    {
     "data": {
      "text/plain": [
       "count    354107.000000\n",
       "mean       2004.235355\n",
       "std          90.261168\n",
       "min        1000.000000\n",
       "25%        1999.000000\n",
       "50%        2003.000000\n",
       "75%        2008.000000\n",
       "max        9999.000000\n",
       "Name: registration_year, dtype: float64"
      ]
     },
     "execution_count": 25,
     "metadata": {},
     "output_type": "execute_result"
    }
   ],
   "source": [
    "rb_df['registration_year'].describe()"
   ]
  },
  {
   "cell_type": "markdown",
   "metadata": {},
   "source": [
    "En un análisis rápido podemos identificar que hay dos inconvenientes, en el primero tenemos un valor mínimo de 1000 años mientras que por el otro lado el valor máximo es de 9999 años. Esto nos indica que hay un error en algunos valores dentro de esta columna. Vamos a investigar de qué se trata."
   ]
  },
  {
   "cell_type": "code",
   "execution_count": 26,
   "metadata": {},
   "outputs": [
    {
     "data": {
      "text/plain": [
       "array([1993, 2011, 2004, 2001, 2008, 1995, 1980, 2014, 1998, 2005, 1910,\n",
       "       2016, 2007, 2009, 2002, 2018, 1997, 1990, 2017, 1981, 2003, 1994,\n",
       "       1991, 1984, 2006, 1999, 2012, 2010, 2000, 1992, 2013, 1996, 1985,\n",
       "       1989, 2015, 1982, 1976, 1983, 1973, 1111, 1969, 1971, 1987, 1986,\n",
       "       1988, 1970, 1965, 1945, 1925, 1974, 1979, 1955, 1978, 1972, 1968,\n",
       "       1977, 1961, 1960, 1966, 1975, 1963, 1964, 5000, 1954, 1958, 1967,\n",
       "       1959, 9999, 1956, 3200, 1000, 1941, 8888, 1500, 2200, 4100, 1962,\n",
       "       1929, 1957, 1940, 3000, 2066, 1949, 2019, 1937, 1951, 1800, 1953,\n",
       "       1234, 8000, 5300, 9000, 2900, 6000, 5900, 5911, 1933, 1400, 1950,\n",
       "       4000, 1948, 1952, 1200, 8500, 1932, 1255, 3700, 3800, 4800, 1942,\n",
       "       7000, 1935, 1936, 6500, 1923, 2290, 2500, 1930, 1001, 9450, 1944,\n",
       "       1943, 1934, 1938, 1688, 2800, 1253, 1928, 1919, 5555, 5600, 1600,\n",
       "       2222, 1039, 9996, 1300, 8455, 1931, 1915, 4500, 1920, 1602, 7800,\n",
       "       9229, 1947, 1927, 7100, 8200, 1946, 7500, 3500])"
      ]
     },
     "execution_count": 26,
     "metadata": {},
     "output_type": "execute_result"
    }
   ],
   "source": [
    "rb_df['registration_year'].unique()"
   ]
  },
  {
   "cell_type": "markdown",
   "metadata": {},
   "source": [
    "Podemos ver que hay valores erroneos. No pueden existir autos cuyo año de registro sea mayor a 2023 ya que es el año en el que nos encontramos actualmente y tampoco pueden haber autos antes de 1910 debido a que este fue el año en el que se inicia con la comercialización de vehículos. Por lo tanto, debemos corregir estos datos y para hacerlo vamos a utilizar el valor de la mediana pero primero hagamos un recuento de cuántos valores son los que están por encima del año 2023."
   ]
  },
  {
   "cell_type": "code",
   "execution_count": 27,
   "metadata": {},
   "outputs": [
    {
     "data": {
      "text/plain": [
       "date_crawled          105\n",
       "price                 105\n",
       "vehicle_type          105\n",
       "registration_year     105\n",
       "gearbox               105\n",
       "power                 105\n",
       "model                 105\n",
       "mileage               105\n",
       "registration_month    105\n",
       "fuel_type             105\n",
       "brand                 105\n",
       "not_repaired          105\n",
       "date_created          105\n",
       "number_of_pictures    105\n",
       "postal_code           105\n",
       "last_seen             105\n",
       "dtype: int64"
      ]
     },
     "execution_count": 27,
     "metadata": {},
     "output_type": "execute_result"
    }
   ],
   "source": [
    "rb_df[rb_df['registration_year'] > 2023].count()"
   ]
  },
  {
   "cell_type": "markdown",
   "metadata": {},
   "source": [
    "Tenemos 105 valores, ahora vamos a conocer la mediana y después vamos a reemplazar estos datos por un valor que tenga más sentido."
   ]
  },
  {
   "cell_type": "code",
   "execution_count": 28,
   "metadata": {},
   "outputs": [
    {
     "name": "stdout",
     "output_type": "stream",
     "text": [
      "La mediana de la columna registration_year es: 2003.0\n"
     ]
    },
    {
     "data": {
      "text/plain": [
       "date_crawled          0\n",
       "price                 0\n",
       "vehicle_type          0\n",
       "registration_year     0\n",
       "gearbox               0\n",
       "power                 0\n",
       "model                 0\n",
       "mileage               0\n",
       "registration_month    0\n",
       "fuel_type             0\n",
       "brand                 0\n",
       "not_repaired          0\n",
       "date_created          0\n",
       "number_of_pictures    0\n",
       "postal_code           0\n",
       "last_seen             0\n",
       "dtype: int64"
      ]
     },
     "execution_count": 28,
     "metadata": {},
     "output_type": "execute_result"
    }
   ],
   "source": [
    "print(\"La mediana de la columna registration_year es:\", rb_df['registration_year'].median())\n",
    "# Reemplazamos valores\n",
    "rb_df['registration_year'] = rb_df['registration_year'].mask(rb_df['registration_year'] > 2023, 2003)\n",
    "# Comprobamos cambios\n",
    "rb_df[rb_df['registration_year'] > 2023].count()"
   ]
  },
  {
   "cell_type": "markdown",
   "metadata": {},
   "source": [
    "Ahora veamos el otro lado de la moneda, los autos se inventaron en 1886 y fue aproximadamente hasta 1910 cuando aparece el primer automóvil sedan, por lo tanto los años por debajo de 1910 no serían correctos. Al igual que el paso anterior vamos a realizar un conteo de valores que están fuera de este límite y vamos a reemplazarlos por un valor que tenga más sentido como lo es el de la mediana."
   ]
  },
  {
   "cell_type": "code",
   "execution_count": 29,
   "metadata": {},
   "outputs": [
    {
     "data": {
      "text/plain": [
       "date_crawled          66\n",
       "price                 66\n",
       "vehicle_type          66\n",
       "registration_year     66\n",
       "gearbox               66\n",
       "power                 66\n",
       "model                 66\n",
       "mileage               66\n",
       "registration_month    66\n",
       "fuel_type             66\n",
       "brand                 66\n",
       "not_repaired          66\n",
       "date_created          66\n",
       "number_of_pictures    66\n",
       "postal_code           66\n",
       "last_seen             66\n",
       "dtype: int64"
      ]
     },
     "execution_count": 29,
     "metadata": {},
     "output_type": "execute_result"
    }
   ],
   "source": [
    "rb_df[rb_df['registration_year'] < 1910].count()"
   ]
  },
  {
   "cell_type": "markdown",
   "metadata": {},
   "source": [
    "Vamos a imputar por la mediana"
   ]
  },
  {
   "cell_type": "code",
   "execution_count": 30,
   "metadata": {},
   "outputs": [],
   "source": [
    "rb_df['registration_year'] = rb_df['registration_year'].mask(rb_df['registration_year'] < 1910, 2003)"
   ]
  },
  {
   "cell_type": "code",
   "execution_count": 31,
   "metadata": {},
   "outputs": [
    {
     "data": {
      "text/plain": [
       "date_crawled          0\n",
       "price                 0\n",
       "vehicle_type          0\n",
       "registration_year     0\n",
       "gearbox               0\n",
       "power                 0\n",
       "model                 0\n",
       "mileage               0\n",
       "registration_month    0\n",
       "fuel_type             0\n",
       "brand                 0\n",
       "not_repaired          0\n",
       "date_created          0\n",
       "number_of_pictures    0\n",
       "postal_code           0\n",
       "last_seen             0\n",
       "dtype: int64"
      ]
     },
     "execution_count": 31,
     "metadata": {},
     "output_type": "execute_result"
    }
   ],
   "source": [
    "rb_df[rb_df['registration_year'] < 1910].count()"
   ]
  },
  {
   "cell_type": "markdown",
   "metadata": {},
   "source": [
    "**Columna Power**"
   ]
  },
  {
   "cell_type": "markdown",
   "metadata": {},
   "source": [
    "Visualicemos algunas estadísticas sobre esta columna."
   ]
  },
  {
   "cell_type": "code",
   "execution_count": 32,
   "metadata": {},
   "outputs": [
    {
     "data": {
      "text/plain": [
       "count    354107.000000\n",
       "mean        110.089651\n",
       "std         189.914972\n",
       "min           0.000000\n",
       "25%          69.000000\n",
       "50%         105.000000\n",
       "75%         143.000000\n",
       "max       20000.000000\n",
       "Name: power, dtype: float64"
      ]
     },
     "execution_count": 32,
     "metadata": {},
     "output_type": "execute_result"
    }
   ],
   "source": [
    "# Análisis estadístico de la columna\n",
    "rb_df['power'].describe()"
   ]
  },
  {
   "cell_type": "markdown",
   "metadata": {},
   "source": [
    "La columna power se refiere a CV que en la industria de los automóviles significa Caballos de Vapor. Después de un breve análisis podemos ver que existen algunos valores en ceros lo cuál nos indica que se trata de autos que no tienen potencia o fuerza para arrancar lo cuál no tendría sentido ya que ningún cliente desearía comprar un producto que no cumple su objetivo. Por otra parte el valor máximo es del 20 mil Caballos de Vapor, esto nos indica que el vehículo tiene un motor que practicamente no existe. \n",
    "\n",
    "Vamos analizar más de cerca estos valores."
   ]
  },
  {
   "cell_type": "code",
   "execution_count": 33,
   "metadata": {},
   "outputs": [
    {
     "name": "stdout",
     "output_type": "stream",
     "text": [
      "0        40218\n",
      "75       24001\n",
      "60       15879\n",
      "150      14571\n",
      "101      13286\n",
      "         ...  \n",
      "323          1\n",
      "3454         1\n",
      "1056         1\n",
      "13636        1\n",
      "1158         1\n",
      "Name: power, Length: 712, dtype: int64\n",
      "\n"
     ]
    },
    {
     "data": {
      "image/png": "[encoded data removed]",
      "text/plain": [
       "<Figure size 432x288 with 1 Axes>"
      ]
     },
     "metadata": {
      "needs_background": "light"
     },
     "output_type": "display_data"
    }
   ],
   "source": [
    "# Visualizamos los datos de la columna\n",
    "print(rb_df['power'].value_counts())\n",
    "print()\n",
    "rb_df['power'].value_counts().hist();"
   ]
  },
  {
   "cell_type": "markdown",
   "metadata": {},
   "source": [
    "Ahora podemos comprobar que existen alrededor de 40 mil autos que **no tienen datos** sobre la potencia, entonces vamos a reemplazar estos valores por el promedio de nuestra columna que para este caso es de **110 CV**"
   ]
  },
  {
   "cell_type": "code",
   "execution_count": 34,
   "metadata": {},
   "outputs": [],
   "source": [
    "# Realizamos el reemplazo\n",
    "rb_df['power'] = rb_df['power'].mask(rb_df['power'] < 60, 110)"
   ]
  },
  {
   "cell_type": "markdown",
   "metadata": {},
   "source": [
    "Ahora vamos averiguar cuántos valores hay por encima de los **1800 CV** pues este es el límite de potencia para el auto súper deportivo Hannesey Vennom el cuál está catalogado como el auto más rápido del mundo. Una vez que sepamos el número de estos valores vamos a realizar una sustitución utilizando la mediana para estos valores atípicos.\n",
    "\n",
    "El valor de la mediana para esta columna es de **105 CV.**"
   ]
  },
  {
   "cell_type": "code",
   "execution_count": 35,
   "metadata": {},
   "outputs": [
    {
     "data": {
      "text/plain": [
       "date_crawled          146\n",
       "price                 146\n",
       "vehicle_type          146\n",
       "registration_year     146\n",
       "gearbox               146\n",
       "power                 146\n",
       "model                 146\n",
       "mileage               146\n",
       "registration_month    146\n",
       "fuel_type             146\n",
       "brand                 146\n",
       "not_repaired          146\n",
       "date_created          146\n",
       "number_of_pictures    146\n",
       "postal_code           146\n",
       "last_seen             146\n",
       "dtype: int64"
      ]
     },
     "execution_count": 35,
     "metadata": {},
     "output_type": "execute_result"
    }
   ],
   "source": [
    "# Conteo de valores por encima de los 1800 CV\n",
    "rb_df[rb_df['power'] > 1800].count()"
   ]
  },
  {
   "cell_type": "code",
   "execution_count": 36,
   "metadata": {},
   "outputs": [],
   "source": [
    "# Reemplazamos valores atípicos por la mediana\n",
    "rb_df['power'] = rb_df['power'].mask(rb_df['power'] > 1800, 105)"
   ]
  },
  {
   "cell_type": "code",
   "execution_count": 37,
   "metadata": {},
   "outputs": [
    {
     "data": {
      "text/plain": [
       "count    354107.000000\n",
       "mean        123.652656\n",
       "std          55.627087\n",
       "min          60.000000\n",
       "25%          97.000000\n",
       "50%         110.000000\n",
       "75%         141.000000\n",
       "max        1800.000000\n",
       "Name: power, dtype: float64"
      ]
     },
     "execution_count": 37,
     "metadata": {},
     "output_type": "execute_result"
    }
   ],
   "source": [
    "# Comprobamos cambios realizados\n",
    "rb_df['power'].describe()"
   ]
  },
  {
   "cell_type": "markdown",
   "metadata": {},
   "source": [
    "**Registration_Month**\n",
    "\n",
    "Vamos a explorar un poco más la variable del mes de registro ya que nuestros números indican que hay valores números en ceros por lo que debemos ver en detalle este caso. Para comenzar vamos a ver la distribución que tienen los valores de esta característica."
   ]
  },
  {
   "cell_type": "code",
   "execution_count": 38,
   "metadata": {},
   "outputs": [
    {
     "data": {
      "text/plain": [
       "0     37347\n",
       "3     34348\n",
       "6     31471\n",
       "4     29246\n",
       "5     29131\n",
       "7     27186\n",
       "10    26076\n",
       "12    24271\n",
       "11    24167\n",
       "9     23798\n",
       "1     23202\n",
       "8     22610\n",
       "2     21254\n",
       "Name: registration_month, dtype: int64"
      ]
     },
     "execution_count": 38,
     "metadata": {},
     "output_type": "execute_result"
    }
   ],
   "source": [
    "rb_df['registration_month'].value_counts()"
   ]
  },
  {
   "cell_type": "markdown",
   "metadata": {},
   "source": [
    "Podemos ver que existen un total de 37,347 registros con valores en ceros, esto es un error pues no existe el mes 0 en el calendario juliano que es el que actualmente nos rige. Vamos a corregir estos datos realizando un reemplazo por medio de la mediana cuyo valor se encuentra en el **mes número 6** y comprobamos los cambios enseguida."
   ]
  },
  {
   "cell_type": "code",
   "execution_count": 39,
   "metadata": {},
   "outputs": [
    {
     "data": {
      "text/plain": [
       "0         6\n",
       "1         5\n",
       "2         8\n",
       "3         6\n",
       "4         7\n",
       "         ..\n",
       "354102    7\n",
       "354103    1\n",
       "354104    3\n",
       "354105    3\n",
       "354106    6\n",
       "Name: registration_month, Length: 354107, dtype: int64"
      ]
     },
     "execution_count": 39,
     "metadata": {},
     "output_type": "execute_result"
    }
   ],
   "source": [
    "rb_df['registration_month'].replace(0, 6)"
   ]
  },
  {
   "cell_type": "markdown",
   "metadata": {},
   "source": [
    "Ahora nuestras columnas numéricas han sido tratadas correctamente y hemos eliminado o sustituido los valores atípicos, vamos a realizar un último paso antes de pasar al entrenamiento de nuestros modelos."
   ]
  },
  {
   "cell_type": "markdown",
   "metadata": {},
   "source": [
    "### Visualización de Datos\n",
    "\n",
    "En este apartado vamos a realizar una visualización, por un lado veremos las variables categóricas y en otro apartado veremos las variables numéricas con la intención de observar sus distribuciones ahora que ya hemos tenemos nuestro set de datos limpio. Lo primero que harémos será eliminar las características que definitivamente no tienen información valiosa para nuestro set de datos como son las de tipo **DateTime, number_of_pictures y postal_code**.\n",
    "\n",
    "Después harémos una selección de las características por su tipo y finalmente las visualizaremos. Para no borrar toda la información vamos a realizar una copia de nuestro dataset limpio y trabajaremos sobre esa nueva copia, de esta manera en caso de que necesitemos volver será más fácil acceder al dataset original."
   ]
  },
  {
   "cell_type": "code",
   "execution_count": 40,
   "metadata": {},
   "outputs": [],
   "source": [
    "# Creamos copia del dataset original\n",
    "df = rb_df.copy()\n",
    "\n",
    "# Eliminamos características que no aportan valor\n",
    "df = df.drop(['date_crawled', 'date_created', 'last_seen', 'number_of_pictures', 'postal_code'], axis=1)"
   ]
  },
  {
   "cell_type": "code",
   "execution_count": 41,
   "metadata": {},
   "outputs": [
    {
     "name": "stdout",
     "output_type": "stream",
     "text": [
      "vehicle_type: 8\n",
      "gearbox: 2\n",
      "model: 250\n",
      "fuel_type: 7\n",
      "brand: 40\n",
      "not_repaired: 2\n"
     ]
    }
   ],
   "source": [
    "# Seleccionamos Variables Categóricas\n",
    "category = df.select_dtypes(include='object')\n",
    "categorical_data = category.columns\n",
    "\n",
    "# Revisamos los valores únicos de cada columna categórica\n",
    "for col in categorical_data:\n",
    "    print(f'{col}: {category[col].nunique()}')"
   ]
  },
  {
   "cell_type": "code",
   "execution_count": 42,
   "metadata": {},
   "outputs": [
    {
     "data": {
      "image/png": "[encoded data removed]",
      "text/plain": [
       "<Figure size 1440x1080 with 6 Axes>"
      ]
     },
     "metadata": {
      "needs_background": "light"
     },
     "output_type": "display_data"
    }
   ],
   "source": [
    "# Establecemos número de columnas y filas para nuestros subplots\n",
    "a = 3 # Número de filas\n",
    "b = 2 # Número de columnas\n",
    "c = 1 # Inicialización del conteo de plots\n",
    "\n",
    "# Definimos el tamaño de nuestra figura\n",
    "fig = plt.subplots(figsize=(20,15))\n",
    "\n",
    "# Construimos un bucle for que iterará sobre cada columna y debolverá un gráfico de barras\n",
    "sns.set_style('whitegrid')\n",
    "for i in category:\n",
    "    plt.subplot(a, b, c)\n",
    "    plt.title(i, fontsize=36)\n",
    "    plt.ylabel('%')\n",
    "    category[i].value_counts(normalize=True).head(40).plot(\n",
    "        kind='bar', \n",
    "        title=i, \n",
    "        rot=90, \n",
    "        edgecolor='black', \n",
    "        color='grey', \n",
    "        linewidth=0.8\n",
    "    )\n",
    "    c = c+1\n",
    "    plt.xticks(fontsize = 8)\n",
    "    \n",
    "    \n",
    "plt.suptitle('Distribución de Variables Categóricas', fontsize='xx-large')\n",
    "plt.tight_layout()\n",
    "plt.show()    "
   ]
  },
  {
   "cell_type": "markdown",
   "metadata": {},
   "source": [
    "- El `vehicle_type` que más tenemos es el sedán mientras que el menos recurrente es el que se encuentra en la **categoría de \"otros\"**.\n",
    "- En la característica de `gearbox` más recurrente es del **tipo \"manual\"**.\n",
    "- El `model` de autos más popular es la **Golf** mientras que la menos popular es la **x_rehie**.\n",
    "- Los autos `fuel_type` es más recurrente es el **petrol/disel** mientras que el **auto eléctrico** es el menos popular.\n",
    "- En cuanto a `brand`, la marca de moda es **Volkswagen** mientras que la menos popular **Lada**.\n",
    "- Las `not_repaired` nos indican que la mayor parte de vehículos no han recibido alguna reparación.\n",
    "\n",
    "Ahora vamos a explorar con la misma visualización las variables numéricas."
   ]
  },
  {
   "cell_type": "code",
   "execution_count": 43,
   "metadata": {},
   "outputs": [
    {
     "name": "stdout",
     "output_type": "stream",
     "text": [
      "price: 4671.661187155295\n",
      "registration_year: 2003.0848048753626\n",
      "power: 123.65265583566548\n",
      "mileage: 128211.811684039\n",
      "registration_month: 5.714182436382224\n"
     ]
    }
   ],
   "source": [
    "# Seleccionamos Variables Numéricas\n",
    "number = df.select_dtypes(include='int')\n",
    "numerical_data = number.columns\n",
    "\n",
    "# Revisamos los valores promedio de cada columna categórica\n",
    "for col in numerical_data:\n",
    "    print(f'{col}: {number[col].mean()}')"
   ]
  },
  {
   "cell_type": "code",
   "execution_count": 44,
   "metadata": {},
   "outputs": [
    {
     "data": {
      "image/png": "[encoded data removed]",
      "text/plain": [
       "<Figure size 1440x1080 with 5 Axes>"
      ]
     },
     "metadata": {},
     "output_type": "display_data"
    }
   ],
   "source": [
    "#----------------------------------\n",
    "# Gráficos para Variables Numéricas\n",
    "#----------------------------------\n",
    "\n",
    "# Establecemos número de filas y columnas para nuestro subplot\n",
    "a = 3 # Número de filas\n",
    "b = 2 # Número de columnas\n",
    "c = 1 # Inicialización del conteo de plots\n",
    "\n",
    "# Definimos el tamaño de nuestra figura\n",
    "fig = plt.subplots(figsize=(20,15))\n",
    "\n",
    "# Construimos un bucle for que iterará sobre cada columna y debolverá un gráfico de barras\n",
    "sns.set_style('whitegrid')\n",
    "for i in number:\n",
    "    plt.subplot(a, b, c)\n",
    "    plt.title(i, fontsize=36)\n",
    "    number[i].plot(\n",
    "        kind='hist', \n",
    "        title=i, \n",
    "        bins=16, \n",
    "        edgecolor='black', \n",
    "        color='grey', \n",
    "        linewidth=0.8\n",
    "    )\n",
    "    \n",
    "    c = c+1\n",
    "    plt.xticks(fontsize = 8)\n",
    "    \n",
    "    \n",
    "plt.suptitle('Distribución de Variables Numéricas', fontsize='xx-large')\n",
    "plt.tight_layout\n",
    "plt.show()"
   ]
  },
  {
   "cell_type": "markdown",
   "metadata": {},
   "source": [
    "- La variable `price` presenta un sesgo a la derecha donde el promedio del precio es de **4,671 euros**.\n",
    "- Para la variable `registration_year`los autos más antiguos son aquellos que provienen del año 1910 mientras que el más actual es del 2019. El **promedio se encuentra en el año 2003**.\n",
    "- En el tema de la `potencia` la **mediana es de 110 CV** donde tenemos una **desviación estándar de 55 CV**.\n",
    "- El kilometraje `mileage` promedio es de 128,211 millas recorridas que expresadas en kilometros serían alrededor de 80,000.\n",
    "- La variable `registration_month` se divide en 4 bloques donde el **promedio** de los autos registrados se encuentra en **5.7 meses**."
   ]
  },
  {
   "cell_type": "markdown",
   "metadata": {},
   "source": [
    "### Matriz de Correlación de Pearson\n",
    "\n",
    "Para finalizar nuestra primera etapa vamos a realizar y visualizar una matriz de correlación la cuál nos ayudará a seleccionar mejores variables al momento de entrenar a nuestro modelo. Primero crearemos nuestra matriz para poder observar con números las relaciones y después harémos un gráfico."
   ]
  },
  {
   "cell_type": "code",
   "execution_count": 45,
   "metadata": {},
   "outputs": [
    {
     "data": {
      "image/png": "[encoded data removed]",
      "text/plain": [
       "<Figure size 864x432 with 2 Axes>"
      ]
     },
     "metadata": {},
     "output_type": "display_data"
    }
   ],
   "source": [
    "# Visualizamos la matríz de correlación\n",
    "sns.set_style('whitegrid')\n",
    "plt.figure(figsize=(12,6))\n",
    "sns.heatmap(df.corr(), annot=True, cmap='mako', linewidth=0.5)\n",
    "plt.show();"
   ]
  },
  {
   "cell_type": "markdown",
   "metadata": {},
   "source": [
    "- Se puede observar una correlación negativa en el kilometraje del vehículo, esto significa que a mayor precio del vehículo menor kilometraje tendrá.\n",
    "- El año del registro tiene una correlación positiva establecida en 0.36 que nos indica una correlación más cercana al precio.\n",
    "- La potencia es la variable que más se correlaciona con el precio.\n",
    "- La variable que menos correlación tiene es el mes de registro en la plataforma."
   ]
  },
  {
   "cell_type": "markdown",
   "metadata": {},
   "source": [
    "## || Etapa Dos: Entrenamiento del modelo \n",
    "---\n",
    "\n",
    "Ahora vamos a entrenar diferentes modelos con varios hiperparámetros. El punto principal de este paso es comparar métodos de potenciación del gradiente con bosque aleatorio, árbol de decisión y regresión lineal. Para ello debemos seleccionar en primer lugar nuestras variables a utilizar y después comenzaremos con el entrenamiento de una `Regresión Lineal` que servirá como modelo Dummy. Acto seguido entrenaremos 3 modelos con las librerías `CatBoost`, `LightGBM`y finalmente `XGBoost`.\n",
    "\n",
    "Gracias al análisis previo sobre nuestra **Matriz de Correlación** ahora sabemos que las variables que tienen más relación respecto al precio son `registration_year`,  `power` y `mileage` así que vamos a seleccionarlas para entrenar a nuestros modelos.\n",
    "\n",
    "> **Nota:** El tiempo obtenido a través del método time de python variará cada vez que se corra el kernel, así que los valores obtenidos serán aproximados."
   ]
  },
  {
   "cell_type": "code",
   "execution_count": 46,
   "metadata": {},
   "outputs": [],
   "source": [
    "# Seleccionamos las características con mayor relación a price.\n",
    "feature_names = ['price','registration_year', 'power', 'mileage']"
   ]
  },
  {
   "cell_type": "markdown",
   "metadata": {},
   "source": [
    "### Escalado de Características\n",
    "\n",
    "Ahora vamos a escalar nuestras variables para que todas tengan el mismo peso para nuestro modelo. Para ello utilizaremos el formato de **Standard Scaler** de la librería **Scikit-Learn** y de esta manera nuestros datos estarán listos para pasar a la siguiente fase de split."
   ]
  },
  {
   "cell_type": "code",
   "execution_count": 47,
   "metadata": {},
   "outputs": [
    {
     "data": {
      "text/html": [
       "<div>\n",
       "<style scoped>\n",
       "    .dataframe tbody tr th:only-of-type {\n",
       "        vertical-align: middle;\n",
       "    }\n",
       "\n",
       "    .dataframe tbody tr th {\n",
       "        vertical-align: top;\n",
       "    }\n",
       "\n",
       "    .dataframe thead th {\n",
       "        text-align: right;\n",
       "    }\n",
       "</style>\n",
       "<table border=\"1\" class=\"dataframe\">\n",
       "  <thead>\n",
       "    <tr style=\"text-align: right;\">\n",
       "      <th></th>\n",
       "      <th>price</th>\n",
       "      <th>registration_year</th>\n",
       "      <th>power</th>\n",
       "      <th>mileage</th>\n",
       "    </tr>\n",
       "  </thead>\n",
       "  <tbody>\n",
       "    <tr>\n",
       "      <th>0</th>\n",
       "      <td>-0.454789</td>\n",
       "      <td>-1.338306</td>\n",
       "      <td>-0.245432</td>\n",
       "      <td>0.574787</td>\n",
       "    </tr>\n",
       "    <tr>\n",
       "      <th>1</th>\n",
       "      <td>3.143553</td>\n",
       "      <td>1.050387</td>\n",
       "      <td>1.192718</td>\n",
       "      <td>-0.084730</td>\n",
       "    </tr>\n",
       "    <tr>\n",
       "      <th>2</th>\n",
       "      <td>1.182918</td>\n",
       "      <td>0.121451</td>\n",
       "      <td>0.707342</td>\n",
       "      <td>-0.084730</td>\n",
       "    </tr>\n",
       "    <tr>\n",
       "      <th>3</th>\n",
       "      <td>-0.731585</td>\n",
       "      <td>-0.276664</td>\n",
       "      <td>-0.874623</td>\n",
       "      <td>0.574787</td>\n",
       "    </tr>\n",
       "    <tr>\n",
       "      <th>4</th>\n",
       "      <td>-0.247193</td>\n",
       "      <td>0.652272</td>\n",
       "      <td>-0.982484</td>\n",
       "      <td>-1.008053</td>\n",
       "    </tr>\n",
       "    <tr>\n",
       "      <th>...</th>\n",
       "      <td>...</td>\n",
       "      <td>...</td>\n",
       "      <td>...</td>\n",
       "      <td>...</td>\n",
       "    </tr>\n",
       "    <tr>\n",
       "      <th>354102</th>\n",
       "      <td>-0.454789</td>\n",
       "      <td>0.254156</td>\n",
       "      <td>-0.245432</td>\n",
       "      <td>0.574787</td>\n",
       "    </tr>\n",
       "    <tr>\n",
       "      <th>354103</th>\n",
       "      <td>-0.570121</td>\n",
       "      <td>0.254156</td>\n",
       "      <td>-0.245432</td>\n",
       "      <td>-2.854701</td>\n",
       "    </tr>\n",
       "    <tr>\n",
       "      <th>354104</th>\n",
       "      <td>-0.801014</td>\n",
       "      <td>-0.409370</td>\n",
       "      <td>-0.407224</td>\n",
       "      <td>-0.084730</td>\n",
       "    </tr>\n",
       "    <tr>\n",
       "      <th>354105</th>\n",
       "      <td>1.044520</td>\n",
       "      <td>-0.940190</td>\n",
       "      <td>-0.389247</td>\n",
       "      <td>0.574787</td>\n",
       "    </tr>\n",
       "    <tr>\n",
       "      <th>354106</th>\n",
       "      <td>-0.293325</td>\n",
       "      <td>-0.143959</td>\n",
       "      <td>-0.425201</td>\n",
       "      <td>0.574787</td>\n",
       "    </tr>\n",
       "  </tbody>\n",
       "</table>\n",
       "<p>354107 rows × 4 columns</p>\n",
       "</div>"
      ],
      "text/plain": [
       "           price  registration_year     power   mileage\n",
       "0      -0.454789          -1.338306 -0.245432  0.574787\n",
       "1       3.143553           1.050387  1.192718 -0.084730\n",
       "2       1.182918           0.121451  0.707342 -0.084730\n",
       "3      -0.731585          -0.276664 -0.874623  0.574787\n",
       "4      -0.247193           0.652272 -0.982484 -1.008053\n",
       "...          ...                ...       ...       ...\n",
       "354102 -0.454789           0.254156 -0.245432  0.574787\n",
       "354103 -0.570121           0.254156 -0.245432 -2.854701\n",
       "354104 -0.801014          -0.409370 -0.407224 -0.084730\n",
       "354105  1.044520          -0.940190 -0.389247  0.574787\n",
       "354106 -0.293325          -0.143959 -0.425201  0.574787\n",
       "\n",
       "[354107 rows x 4 columns]"
      ]
     },
     "execution_count": 47,
     "metadata": {},
     "output_type": "execute_result"
    }
   ],
   "source": [
    "# Realizamos escalado de características\n",
    "scaler    = StandardScaler().fit_transform(df[feature_names])\n",
    "df_scaled = pd.DataFrame(scaler, columns=df[feature_names].columns)\n",
    "df_scaled"
   ]
  },
  {
   "cell_type": "markdown",
   "metadata": {},
   "source": [
    "### Split de Datos\n",
    "\n",
    "Ahora para poder entrenar nuestros modelos debemos realizar la división de nuestro dataset a través de la herramienta **train_test_split** de la librería **Scikit-Learn** que nos permitirá cumplir con este objetivo. Para ello primero debemos seleccionar nuestras **Características** y después nuestro **Objetivo**. Finalmente realizar el split que vamos a configurar con una dimesión de **70/30**."
   ]
  },
  {
   "cell_type": "code",
   "execution_count": 48,
   "metadata": {},
   "outputs": [
    {
     "name": "stdout",
     "output_type": "stream",
     "text": [
      "Tamaño del Conjunto de Entrenamiento: (247874, 3) (247874,)\n",
      "Tamaño del Conjunto de Prueba:        (106233, 3) (106233,)\n"
     ]
    }
   ],
   "source": [
    "# Seleccionamos Características\n",
    "features = df_scaled.drop('price', axis=1)\n",
    "target   = df_scaled['price']\n",
    "\n",
    "# Realizamos el Split\n",
    "X_train, X_test, y_train, y_test = train_test_split(\n",
    "    features, \n",
    "    target, \n",
    "    test_size = 0.3, \n",
    "    random_state = 42\n",
    ")\n",
    "\n",
    "print(\"Tamaño del Conjunto de Entrenamiento:\", X_train.shape, y_train.shape)\n",
    "print(\"Tamaño del Conjunto de Prueba:       \", X_test.shape, y_test.shape)"
   ]
  },
  {
   "cell_type": "markdown",
   "metadata": {},
   "source": [
    "### REGRESIÓN LINEAL\n",
    "\n",
    "La regresión lineal es un enfoque lineal para modelar la relación entre una respuesta escalar y una o más variables explicativas (también conocidas como variables dependientes e independientes ). Como todas las formas de análisis de regresión , la regresión lineal se centra en la distribución de probabilidad condicional de la respuesta dados los valores de los predictores, en lugar de la distribución de probabilidad conjunta de todas estas variables, que es el dominio del análisis multivariante.\n",
    "\n",
    "En el sprint anterior descubrimos la forma de hacer nuestra propia regresión, ahora que ya sabemos cómo desarrollarla es momento de poner en marcha lo aprendido.\n",
    "\n",
    "**FORMULACIÓN**\n",
    "\n",
    "**Estimation**\n",
    "\n",
    "$$\\bar{y} = wx+b$$\n",
    "\n",
    "**Calculating Error**\n",
    "\n",
    "$$MSE = J(w,b) = \\frac{1}{n} \\sum_{i=1}^{n}(y_{i}-(wx_{i}+b))^2$$\n",
    "\n",
    "**Updating Parameters**\n",
    "\n",
    "$J'(m,b) = \\begin{equation}\n",
    "\\begin{bmatrix}\n",
    "\\frac{df}{dw}\\\\\n",
    "\\frac{df}{db}\n",
    "\\end{bmatrix}\n",
    "\\end{equation}  =$ $\\begin{equation}\n",
    "\\begin{bmatrix}\n",
    "\\frac{1}{n} \\sum_{i=1}^{n}(y_{i}-2x_{i}(wx_{i}+b))\\\\\n",
    "\\frac{1}{n} \\sum_{i=1}^{n}(y_{i}-2(wx_{i}+b))\n",
    "\\end{bmatrix}\n",
    "\\end{equation}$\n",
    "\n",
    "$\\frac{dj}{dw} = dw = \\frac{1}{n} = \\sum_{i=1}^{n}-2x_{i}(y_{i}- (wx_{i}+b)) = \\frac{1}{n}\\sum_{i=1}^{n}-2x_{i}(y_{i}- \\bar{y}) = \\frac{1}{n}\\sum_{i=1}^{n}2x_{i}(\\bar{y} - y_{i})$\n",
    "\n",
    "$\\frac{dj}{db} = db = \\frac{1}{n} = \\sum_{i=1}^{n}-2(y_{i}- (wx_{i}+b)) = \\frac{1}{n}\\sum_{i=1}^{n}-2(y_{i}-\\bar{y}) = \\frac{1}{n}\\sum_{i=1}^{n}2(\\bar{y} - y_{i})$\n",
    "\n",
    "**Gradient Descent**\n",
    "\n",
    "$$w=w-a*dw$$\n",
    "\n",
    "$$b=b-a*db$$"
   ]
  },
  {
   "cell_type": "code",
   "execution_count": 49,
   "metadata": {},
   "outputs": [],
   "source": [
    "class Linear_Regression:\n",
    "    \n",
    "    def __init__(self, lr = 0.001, n_iters=1000):\n",
    "        self.lr = lr\n",
    "        self.n_iters = n_iters\n",
    "        self.w = None\n",
    "        self.b = None\n",
    "        \n",
    "    def fit(self, X, y):\n",
    "        n_samples, n_features = X.shape\n",
    "        self.w = np.zeros(n_features)\n",
    "        self.b = 0\n",
    "        \n",
    "        for _ in range(self.n_iters):\n",
    "            y_pred = np.dot(X, self.w) + self.b\n",
    "\n",
    "            dw = (1/n_samples) * np.dot(X.T,(y_pred - y))\n",
    "            db = (1/n_samples) * np.sum(y_pred - y)\n",
    "\n",
    "            self.w = self.w - self.lr * dw\n",
    "            self.b = self.b - self.lr * db\n",
    "    \n",
    "    \n",
    "    def predict(self, X):\n",
    "        y_pred = np.dot(X, self.w) + self.b\n",
    "        return y_pred"
   ]
  },
  {
   "cell_type": "markdown",
   "metadata": {},
   "source": [
    "Gracias a las fórmulas anteriores hemos creado correctamente nuestro modelo de regresión líneal desde cero y ahora en el siguiente paso vamos a realizar las pruebas correspondientes para su uso, recordando que este modelo nos servirá como modelo dummy."
   ]
  },
  {
   "cell_type": "code",
   "execution_count": 50,
   "metadata": {},
   "outputs": [
    {
     "name": "stdout",
     "output_type": "stream",
     "text": [
      "RECM de la Regresión Lineal: 0.818\n",
      "Tiempo de Entrenamiento: 13.111 seg\n",
      "Tiempo de Prueba: 0.075 seg\n"
     ]
    }
   ],
   "source": [
    "# Entrenamiento del modelo de regresión\n",
    "#--------------------------------------\n",
    "start_train = time.time()\n",
    "reg = Linear_Regression()\n",
    "reg.fit(X_train, y_train)\n",
    "end_train = time.time()\n",
    "\n",
    "# Calculamos las Predicciones\n",
    "#----------------------------\n",
    "start_test = time.time()\n",
    "lr_predictions = reg.predict(X_test)\n",
    "end_test = time.time()\n",
    "\n",
    "# Establecemos el RECM para nuestra prueba de cordura\n",
    "#----------------------------------------------------\n",
    "RECM_lr = mean_squared_error(y_test, lr_predictions, squared=False)\n",
    "print(f'RECM de la Regresión Lineal: {RECM_lr:.3f}')\n",
    "print(f'Tiempo de Entrenamiento: {end_train - start_train:.3f} seg')\n",
    "print(f'Tiempo de Prueba: {end_test - start_test:.3f} seg')"
   ]
  },
  {
   "cell_type": "markdown",
   "metadata": {},
   "source": [
    "El modelo de regresión lineal devolvió RECM de 0.81, esta será nuestra prueba de cordura que servirá como indicador base para la comparación con los otros modelos y métodos de potenciación de gradiente. Si un modelo de potenciación de gradiente funciona peor que 0.81 entonces algo habrá salido mal."
   ]
  },
  {
   "cell_type": "markdown",
   "metadata": {},
   "source": [
    "### RANDOM FOREST REGRESSOR\n",
    "\n",
    "Ahora probaremos el modelo del bosque aleatorio. Recordemos que Los árboles de decisión se utilizan tanto para problemas de regresión como de clasificación. Un bosque aleatorio se compone de muchos árboles de decisión. Fluyen visualmente como árboles, de ahí el nombre, y en el caso de regresión, comienzan con la raíz del árbol y siguen divisiones basadas en resultados variables hasta que se alcanza un nodo hoja y se da el resultado.\n",
    "\n",
    "En el siguiente paso vamos a entrenar el modelo configurando un ajuste de hiperparámetros a través de la herramienta de **GridSearch** que viene incluída en la librería de **Scikit-Learn**. De esta manera podremos obtener los mejores resultados para nuestro modelo.\n",
    "\n",
    "**AJUSTE DE HIPERPARÁMETROS**"
   ]
  },
  {
   "cell_type": "code",
   "execution_count": 51,
   "metadata": {},
   "outputs": [],
   "source": [
    "# Establecer valores para hiperparámetros\n",
    "#-------------------------------------------\n",
    "h_params = {'n_estimators' : [10, 20, 40],\n",
    "            'max_depth' : [1, 2, 3, 4, 5], \n",
    "            'random_state' : [42]}\n",
    "\n",
    "# Llamamos a GridSearchCV y colocamos los valores de los hiperparámetros\n",
    "# La métrica RECM y el valor de validación cruzada\n",
    "#-----------------------------------------------------------------------\n",
    "gridSearch_rf = GridSearchCV(estimator = RandomForestRegressor(), \n",
    "                             param_grid = h_params, \n",
    "                             scoring = 'neg_root_mean_squared_error', \n",
    "                             cv=5)"
   ]
  },
  {
   "cell_type": "code",
   "execution_count": 52,
   "metadata": {},
   "outputs": [
    {
     "name": "stdout",
     "output_type": "stream",
     "text": [
      "Tiempo de ajuste de hiperparámetros Random Forest: 110.803 seg\n"
     ]
    }
   ],
   "source": [
    "# Entrenamiento de GridSearch\n",
    "#----------------------------\n",
    "start_tr = time.time()\n",
    "gridSearch_rf.fit(X_train, y_train)\n",
    "end_tr = time.time()\n",
    "\n",
    "print(f\"Tiempo de ajuste de hiperparámetros Random Forest: {end_tr-start_tr:.3f} seg\")"
   ]
  },
  {
   "cell_type": "code",
   "execution_count": 53,
   "metadata": {},
   "outputs": [
    {
     "name": "stdout",
     "output_type": "stream",
     "text": [
      "Mejores Hiperparámetros del Modelo: {'max_depth': 5, 'n_estimators': 20, 'random_state': 42} | Mejor RECM: 0.570\n"
     ]
    }
   ],
   "source": [
    "# Buscar los mejores hiperparámetros que devolvió el valor más bajo de RECM\n",
    "#--------------------------------------------------------------------------\n",
    "max_score = gridSearch_rf.cv_results_['mean_test_score'].max()\n",
    "index_max_score = np.where(gridSearch_rf.cv_results_['mean_test_score'] == max_score)[0][0]\n",
    "\n",
    "best_set_params = gridSearch_rf.cv_results_['params'][index_max_score]\n",
    "\n",
    "print(f\"Mejores Hiperparámetros del Modelo: {best_set_params} | Mejor RECM: {-max_score:.3f}\")"
   ]
  },
  {
   "cell_type": "markdown",
   "metadata": {},
   "source": [
    "**ENTRENAMIENTO DE MODELO**"
   ]
  },
  {
   "cell_type": "code",
   "execution_count": 54,
   "metadata": {},
   "outputs": [
    {
     "name": "stdout",
     "output_type": "stream",
     "text": [
      "RECM de Random Forest: 0.570\n",
      "Tiempo de Entrenamiento: 2.425 seg\n",
      "Tiempo de Prueba: 0.098 seg\n"
     ]
    }
   ],
   "source": [
    "# Entrenamiento del Modelo Random Forest\n",
    "#----------------------------\n",
    "start_tr_rf = time.time()\n",
    "rf_model = RandomForestRegressor(max_depth=5, n_estimators=20, random_state=42)\n",
    "rf_model.fit(X_train, y_train)\n",
    "end_tr_rf = time.time()\n",
    "\n",
    "# Calculamos las Predicciones\n",
    "#----------------------------\n",
    "start_ts_rf = time.time()\n",
    "rf_predictions = rf_model.predict(X_test)\n",
    "end_ts_rf = time.time()\n",
    "\n",
    "# Establecemos el RECM para nuestra prueba de cordura\n",
    "#----------------------------------------------------\n",
    "RECM_rf = mean_squared_error(y_test, rf_predictions, squared=False)\n",
    "print(f'RECM de Random Forest: {RECM_rf:.3f}')\n",
    "print(f'Tiempo de Entrenamiento: {end_tr_rf - start_tr_rf:.3f} seg')\n",
    "print(f'Tiempo de Prueba: {end_ts_rf - start_ts_rf:.3f} seg')"
   ]
  },
  {
   "cell_type": "markdown",
   "metadata": {},
   "source": [
    "Para el modelo del **Random Forest** los mejores parámetros fueron [max_depth=5, n_estimators=20] con un tiempo de 3 segundos y una **RECM de 0.57** que mejora bastante con respecto a la regresión lineal."
   ]
  },
  {
   "cell_type": "markdown",
   "metadata": {},
   "source": [
    "### Cat Boost\n",
    "\n",
    "CatBoost es un **método de potenciación de gradiente** que utiliza un algoritmo voraz o greedy method para dividir sus árboles, es decir seleccionrá aquella división de árbol que tenga la mejor penalización sin importar cómo esta decisión contribuye en la solución general óptima del modelo. A su vez, este modelo se basa en **árboles simétricos** que presentan una división consistente de nodos a la misma profundidad del árbol. Y lo más importante de este árbol es que no requiere de un **preprocesamiento de características categóricas** por lo que no es necesario aplicar OHE o alguna codificación de etiquetas ya que el propio método asigna etiquetas a través del uso de permutaciones del conjunto de datos. Es así como trabajamos con nuestro dataset final y pasaremos una lista de características categoricas al entrenar el modelo. "
   ]
  },
  {
   "cell_type": "code",
   "execution_count": 55,
   "metadata": {},
   "outputs": [
    {
     "name": "stdout",
     "output_type": "stream",
     "text": [
      "Tamaño del Conjunto de Entrenamiento: (247874, 10) (247874,)\n",
      "Tamaño del Conjunto de Prueba:        (106233, 10) (106233,)\n"
     ]
    }
   ],
   "source": [
    "# Establecemos las Características y Objetivo apartir del Dataset Original\n",
    "#-------------------------------------------------------------------------\n",
    "x = df.drop('price', axis=1)\n",
    "y = df['price']\n",
    "\n",
    "# Realizamos la División de Datos/Split\n",
    "#--------------------------------------\n",
    "Xc_train, Xc_test, yc_train, yc_test = train_test_split(\n",
    "    x, y, test_size=0.3, random_state=42\n",
    ")\n",
    "\n",
    "# Comprobamos que los Datos se Dividieron Corractamente\n",
    "#------------------------------------------------------\n",
    "print(\"Tamaño del Conjunto de Entrenamiento:\", Xc_train.shape, yc_train.shape)\n",
    "print(\"Tamaño del Conjunto de Prueba:       \", Xc_test.shape, yc_test.shape)"
   ]
  },
  {
   "cell_type": "markdown",
   "metadata": {},
   "source": [
    "**AJUSTE DE HIPERPARÁMETROS**"
   ]
  },
  {
   "cell_type": "code",
   "execution_count": 56,
   "metadata": {},
   "outputs": [
    {
     "name": "stdout",
     "output_type": "stream",
     "text": [
      "Tiempo de Entrenamiento: 398.648 seg\n"
     ]
    }
   ],
   "source": [
    "# Definimos las Características Categóricas\n",
    "#------------------------------------------\n",
    "cat_features = ['vehicle_type',\n",
    "                'gearbox',\n",
    "                'model',\n",
    "                'fuel_type',\n",
    "                'brand',\n",
    "                'not_repaired']\n",
    "\n",
    "# Establecemos los hiperparámetros que vamos ajustar\n",
    "#---------------------------------------------------\n",
    "params_catboost = {'depth': [4, 6, 10], \n",
    "                   'learning_rate': [0.1, 0.2, 0.5]}\n",
    "\n",
    "# Llamamos al estimador que utilizarémos para este caso Catboost Regressor y pasamos GridSerchCV\n",
    "#-----------------------------------------------------------------------------------------------\n",
    "catboost_est = CatBoostRegressor(iterations=100, cat_features=cat_features, verbose=False, loss_function='RMSE')\n",
    "\n",
    "gridSearch_catboost = GridSearchCV(estimator=catboost_est,\n",
    "                                   param_grid=params_catboost, \n",
    "                                   scoring='neg_root_mean_squared_error', \n",
    "                                   cv=3)\n",
    "\n",
    "# Entrenamos el Modelo en Búsqueda de los Hiperparámetros que lancen el mejor RECM\n",
    "#---------------------------------------------------------------------------------\n",
    "start_gs = time.time()\n",
    "gridSearch_catboost.fit(Xc_train, yc_train)\n",
    "end_gs = time.time()\n",
    "print(f'Tiempo de Entrenamiento: {end_gs-start_gs:.3f} seg')"
   ]
  },
  {
   "cell_type": "code",
   "execution_count": 57,
   "metadata": {},
   "outputs": [
    {
     "name": "stdout",
     "output_type": "stream",
     "text": [
      "Mejores Hiperparámetros del Modelo: {'depth': 10, 'learning_rate': 0.5} | Mejor RECM: 1746.250\n"
     ]
    }
   ],
   "source": [
    "# Buscamos los mejores Hipermarámetros del Modelo\n",
    "#------------------------------------------------\n",
    "max_score_cb = gridSearch_catboost.cv_results_['mean_test_score'].max()\n",
    "index_max_score_cb = np.where(gridSearch_catboost.cv_results_['mean_test_score'] == max_score_cb)[0][0]\n",
    "\n",
    "best_cb_set_params = gridSearch_catboost.cv_results_['params'][index_max_score_cb]\n",
    "\n",
    "print(f\"Mejores Hiperparámetros del Modelo: {best_cb_set_params} | Mejor RECM: {-max_score_cb:.3f}\")"
   ]
  },
  {
   "cell_type": "markdown",
   "metadata": {},
   "source": [
    "**ENTRENAMIENTO DEL MODELO**"
   ]
  },
  {
   "cell_type": "code",
   "execution_count": 58,
   "metadata": {},
   "outputs": [
    {
     "name": "stdout",
     "output_type": "stream",
     "text": [
      "RECM de CatBoost: 1721.347\n",
      "Tiempo de Entrenamiento: 30.848 seg\n",
      "Tiempo de Prueba: 0.204 seg\n"
     ]
    }
   ],
   "source": [
    "# Entrenamos Modelo con los Mejores Hiperparámetros y\n",
    "# Realizamos Predicciones en el Conjunto de Pruebas\n",
    "#---------------------------------------------------\n",
    "catboost_model = CatBoostRegressor(iterations=100,\n",
    "                                   depth=10,\n",
    "                                   learning_rate=0.5,\n",
    "                                   loss_function='RMSE',\n",
    "                                   random_seed=42)\n",
    "\n",
    "\n",
    "start_cb = time.time()\n",
    "catboost_model.fit(Xc_train, yc_train, cat_features=cat_features, verbose=False)\n",
    "end_cb = time.time()\n",
    "\n",
    "start_cb_tp = time.time()\n",
    "cb_predictions = catboost_model.predict(Xc_test)\n",
    "end_cb_tp = time.time()\n",
    "\n",
    "RECM_catboost = mean_squared_error(yc_test, cb_predictions, squared=False)\n",
    "print(f'RECM de CatBoost: {RECM_catboost:.3f}')\n",
    "print(f'Tiempo de Entrenamiento: {end_cb-start_cb:.3f} seg')\n",
    "print(f'Tiempo de Prueba: {end_cb_tp-start_cb_tp:.3f} seg')"
   ]
  },
  {
   "cell_type": "markdown",
   "metadata": {},
   "source": [
    "### Light GBM Regressor"
   ]
  },
  {
   "cell_type": "markdown",
   "metadata": {},
   "source": [
    "El método de potenciación de gradiente **LightGBM** utiliza árboles asimétricos y depende de los cálculos del árbol, por lo que divide la hoja del árbol con el mejor ajuste, de esta manera se produce una mayor precisión y disminuye los errores que pueden ocurrir al utilizar el cálculo por niveles. Al igual que **Catboost**, LightGBM puede procesar características categóricas, pero no utiliza **One-Hot Encodig**. Es necesario transformar las características a tipo entero, ya que no acepta variables de tipo string u objeto, también se puede optar por cambiar las características categoricas a tipo **Category**, que es lo que vamos a realizar a continuación para entrenar nuestro modelo."
   ]
  },
  {
   "cell_type": "code",
   "execution_count": 59,
   "metadata": {},
   "outputs": [
    {
     "name": "stdout",
     "output_type": "stream",
     "text": [
      "Tamaño del Conjunto de Entrenamiento: (247874, 10) (247874,)\n",
      "Tamaño del Conjunto de Prueba:        (106233, 10) (106233,)\n"
     ]
    }
   ],
   "source": [
    "# Transformamos características categóricas a tipo \"category\"\n",
    "#------------------------------------------------------------\n",
    "for feature in categorical_data:\n",
    "    df[feature] = df[feature].astype('category')\n",
    "    \n",
    "# Obtenemos las características y objetivo apartir de nuestra copia del dataset\n",
    "#------------------------------------------------------------------------------\n",
    "x_lgbm = df.drop('price', axis=1)\n",
    "y_lgbm = df['price']\n",
    "\n",
    "# Dividimos en Conjunto de Entrenamiento y\n",
    "# Conjunto de Prueba\n",
    "#-----------------------------------------\n",
    "X_train_lgbm, X_test_lgbm, y_train_lgbm, y_test_lgbm = train_test_split(\n",
    "    x_lgbm, y_lgbm, test_size=0.3, random_state=42)\n",
    "\n",
    "# Comprobamos que los Datos se Dividieron Correctamente\n",
    "#------------------------------------------------------\n",
    "print(\"Tamaño del Conjunto de Entrenamiento:\", X_train_lgbm.shape, y_train_lgbm.shape)\n",
    "print(\"Tamaño del Conjunto de Prueba:       \", X_test_lgbm.shape, y_test_lgbm.shape)"
   ]
  },
  {
   "cell_type": "markdown",
   "metadata": {},
   "source": [
    "**AJUSTE DE HIPERPARÁMETROS**"
   ]
  },
  {
   "cell_type": "code",
   "execution_count": 60,
   "metadata": {},
   "outputs": [
    {
     "name": "stdout",
     "output_type": "stream",
     "text": [
      "Tiempo de Entrenamiento: 271.924 seg\n"
     ]
    }
   ],
   "source": [
    "# Establecemos los hiperparámetros que vamos ajustar\n",
    "#---------------------------------------------------\n",
    "params_lightgbm = {'n_estimators' : [200, 500], \n",
    "                   'learning_rate': [0.1, 0.2, 0.5],\n",
    "                   'num_leaves'   : [10, 20]\n",
    "                  }\n",
    "\n",
    "# Llamamos al estimador que vamos a utilizar y\n",
    "# Llamamos a GridSearchCV\n",
    "#-------------------------------------------\n",
    "lightgbm_est = LGBMRegressor()\n",
    "\n",
    "gridSearch_lightgbm = GridSearchCV(\n",
    "    estimator  = lightgbm_est,\n",
    "    param_grid = params_lightgbm, \n",
    "    scoring    = 'neg_root_mean_squared_error', \n",
    "    cv = 3\n",
    ")\n",
    "\n",
    "# Entrenamos el Modelo en Búsqueda de los Hiperparámetros que lancen el mejor RECM\n",
    "#---------------------------------------------------------------------------------\n",
    "start_lgbm = time.time()\n",
    "gridSearch_lightgbm.fit(X_train_lgbm, y_train_lgbm)\n",
    "end_lgbm = time.time()\n",
    "print(f'Tiempo de Entrenamiento: {end_lgbm-start_lgbm:.3f} seg')"
   ]
  },
  {
   "cell_type": "code",
   "execution_count": 61,
   "metadata": {},
   "outputs": [
    {
     "name": "stdout",
     "output_type": "stream",
     "text": [
      "Mejores Hiperparámetros del Modelo: {'learning_rate': 0.2, 'n_estimators': 500, 'num_leaves': 20} | Mejor RECM: 1693.537\n"
     ]
    }
   ],
   "source": [
    "# Buscamos los mejores Hipermarámetros del Modelo\n",
    "#------------------------------------------------\n",
    "max_score_lgbm = gridSearch_lightgbm.cv_results_['mean_test_score'].max()\n",
    "index_max_score_lgbm = np.where(gridSearch_lightgbm.cv_results_['mean_test_score'] == max_score_lgbm)[0][0]\n",
    "\n",
    "best_lgbm_set_params = gridSearch_lightgbm.cv_results_['params'][index_max_score_lgbm]\n",
    "\n",
    "print(f\"Mejores Hiperparámetros del Modelo: {best_lgbm_set_params} | Mejor RECM: {-max_score_lgbm:.3f}\")"
   ]
  },
  {
   "cell_type": "markdown",
   "metadata": {},
   "source": [
    "**ENTRENAMIENTO DEL MODELO**"
   ]
  },
  {
   "cell_type": "code",
   "execution_count": 62,
   "metadata": {},
   "outputs": [
    {
     "name": "stdout",
     "output_type": "stream",
     "text": [
      "RECM de LightGBM: 1667.488\n",
      "Tiempo de Entrenamiento: 10.393 seg\n",
      "Tiempo de Prueba: 4.008 seg\n"
     ]
    }
   ],
   "source": [
    "# Entrenamos Modelo con los Mejores Hiperparámetros y\n",
    "# Realizamos Predicciones en el Conjunto de Pruebas\n",
    "#---------------------------------------------------\n",
    "lightgbm_model   = LGBMRegressor(\n",
    "    n_estimators = 500,\n",
    "    learning_rate= 0.2,\n",
    "    num_leaves   = 20,\n",
    "    random_seed  = 42)\n",
    "\n",
    "\n",
    "start_ltr = time.time()\n",
    "lightgbm_model.fit(X_train_lgbm, y_train_lgbm)\n",
    "end_ltr = time.time()\n",
    "\n",
    "start_lts = time.time()\n",
    "lgbm_predictions = lightgbm_model.predict(X_test_lgbm)\n",
    "end_lts = time.time()\n",
    "\n",
    "RECM_lightgbm = mean_squared_error(y_test_lgbm, lgbm_predictions, squared=False)\n",
    "print(f'RECM de LightGBM: {RECM_lightgbm:.3f}')\n",
    "print(f'Tiempo de Entrenamiento: {end_ltr-start_ltr:.3f} seg')\n",
    "print(f'Tiempo de Prueba: {end_lts-start_lts:.3f} seg')"
   ]
  },
  {
   "cell_type": "markdown",
   "metadata": {},
   "source": [
    "### XGBoost\n",
    "\n",
    "XGBoost es un método de potenciación de gradiente que utiliza árboles asímetricos al igual que **LightGBM**, pero se diferencia en la forma como crecen sus árboles, los cuales crecen por niveles no por sus hojas por lo que se obtienen árboles más complejos y grandes que hace que el modelo tome más tiempo en realizar predicciones y entrenarse. Así mismo a diferencia de LightGBM y CatBoost, XGBoost no tiene su propia implementación para características categóricas y solo acepta características numéricas, por lo que requiere un preprocesamiento a través de One-Hot encoding para poder procesar datos categóricos. Por esta razón utilizaremos nuestro conjunto de entrenamiento, y prueba que ya fueron codificados a través de OHE para la Regresión Líneal.\n",
    "\n",
    "**AJUSTE DE HIPERPARÁMETROS**"
   ]
  },
  {
   "cell_type": "code",
   "execution_count": 63,
   "metadata": {},
   "outputs": [
    {
     "name": "stdout",
     "output_type": "stream",
     "text": [
      "Tiempo de Entrenamiento: 107.744 seg\n"
     ]
    }
   ],
   "source": [
    "# Establecemos los hiperparámetros que vamos ajustar\n",
    "#---------------------------------------------------\n",
    "params_xgboost = {\n",
    "    'max_depth' : [4, 6, 8], \n",
    "    'n_estimators': [25, 50]\n",
    "}\n",
    "\n",
    "# Llamamos al estimador que vamos a utilizar y\n",
    "# Llamamos a GridSearchCV\n",
    "#-------------------------------------------\n",
    "xgboost_est = XGBRegressor()\n",
    "\n",
    "gridSearch_xgboost = GridSearchCV(\n",
    "    estimator  = xgboost_est,\n",
    "    param_grid = params_xgboost, \n",
    "    scoring    = 'neg_root_mean_squared_error', \n",
    "    cv = 3\n",
    ")\n",
    "\n",
    "# Entrenamos el Modelo en Búsqueda de los Hiperparámetros que lancen el mejor RECM\n",
    "#---------------------------------------------------------------------------------\n",
    "start_xgb = time.time()\n",
    "gridSearch_xgboost.fit(X_train, y_train)\n",
    "end_xgb = time.time()\n",
    "print(f'Tiempo de Entrenamiento: {end_xgb-start_xgb:.3f} seg')"
   ]
  },
  {
   "cell_type": "code",
   "execution_count": 64,
   "metadata": {},
   "outputs": [
    {
     "name": "stdout",
     "output_type": "stream",
     "text": [
      "Mejores Hiperparámetros del Modelo: {'max_depth': 8, 'n_estimators': 50} | Mejor RECM: 0.492\n"
     ]
    }
   ],
   "source": [
    "# Buscamos los mejores Hipermarámetros del Modelo\n",
    "#------------------------------------------------\n",
    "max_score_xgb = gridSearch_xgboost.cv_results_['mean_test_score'].max()\n",
    "index_max_score_xgb = np.where(gridSearch_xgboost.cv_results_['mean_test_score'] == max_score_xgb)[0][0]\n",
    "\n",
    "best_xgb_set_params = gridSearch_xgboost.cv_results_['params'][index_max_score_xgb]\n",
    "\n",
    "print(f\"Mejores Hiperparámetros del Modelo: {best_xgb_set_params} | Mejor RECM: {-max_score_xgb:.3f}\")"
   ]
  },
  {
   "cell_type": "markdown",
   "metadata": {},
   "source": [
    "**ENTRENAMIENTO DEL MODELO**"
   ]
  },
  {
   "cell_type": "code",
   "execution_count": 65,
   "metadata": {},
   "outputs": [
    {
     "name": "stdout",
     "output_type": "stream",
     "text": [
      "RECM de XGBoost: 0.488\n",
      "Tiempo de Entrenamiento: 13.301 seg\n",
      "Tiempo de Prueba: 0.314 seg\n"
     ]
    }
   ],
   "source": [
    "# Entrenamos Modelo con los Mejores Hiperparámetros y\n",
    "# Realizamos Predicciones en el Conjunto de Pruebas\n",
    "#---------------------------------------------------\n",
    "xgboost_model = XGBRegressor(\n",
    "    n_estimators = 50,\n",
    "    max_depth    = 8,\n",
    "    random_state = 42)\n",
    "\n",
    "\n",
    "start_tr_xgb = time.time()\n",
    "xgboost_model.fit(X_train, y_train)\n",
    "end_tr_xgb = time.time()\n",
    "\n",
    "start_ts_xgb = time.time()\n",
    "xgb_predictions = xgboost_model.predict(X_test)\n",
    "end_ts_xgb = time.time()\n",
    "\n",
    "RECM_xgboost = mean_squared_error(y_test, xgb_predictions, squared=False)\n",
    "print(f'RECM de XGBoost: {RECM_xgboost:.3f}')\n",
    "print(f'Tiempo de Entrenamiento: {end_tr_xgb-start_tr_xgb:.3f} seg')\n",
    "print(f'Tiempo de Prueba: {end_ts_xgb-start_ts_xgb:.3f} seg')"
   ]
  },
  {
   "cell_type": "markdown",
   "metadata": {},
   "source": [
    "## || Etapa Tres: Análisis de Modelos\n",
    "---"
   ]
  },
  {
   "cell_type": "markdown",
   "metadata": {},
   "source": [
    "### RECM\n",
    "\n",
    "Una medida de uso frecuente de las diferencias entre los valores (valores de muestra o de población) predichos por un modelo o un estimador y los valores observados. La RECM representa la raíz cuadrada del segundo momento de la muestra de las diferencias entre los valores previstos y los valores observados o la media cuadrática de estas diferencias. Esta será la métrica base que utilizaremos para evaluar el rendimiento de nuestros modelos.\n",
    "\n",
    "$$RECM = \\sqrt ECM = \\sqrt\\frac{1}{n}\\sum_{i=1}^{n} (\\bar{y} - y)^2 $$"
   ]
  },
  {
   "cell_type": "markdown",
   "metadata": {},
   "source": [
    "### Resultados\n",
    "\n",
    "Una vez entrenados nuestros modelos vamos hacer un análsis de su calidad y velocidad. Para visualizar esto trazaremos una tabla con los valores de tiempo registrados tanto en el ajuste de parámetros, entrenamiento y prueba. Como ya se mencionó anteriormente el tiempo puede variar al correr el kernel por lo que los valores descritos en la tabla deben considerarse como aproximados. También incluiremos el resultado del RECM que nos ayudará a determinar cuál es el modelo con el mejor rendimiento. Por otro lado vamos a trazar gráficos de barras que nos ayuden a visualizar mejor los resultados obtenidos."
   ]
  },
  {
   "cell_type": "code",
   "execution_count": 66,
   "metadata": {
    "scrolled": true
   },
   "outputs": [
    {
     "data": {
      "text/html": [
       "<div>\n",
       "<style scoped>\n",
       "    .dataframe tbody tr th:only-of-type {\n",
       "        vertical-align: middle;\n",
       "    }\n",
       "\n",
       "    .dataframe tbody tr th {\n",
       "        vertical-align: top;\n",
       "    }\n",
       "\n",
       "    .dataframe thead th {\n",
       "        text-align: right;\n",
       "    }\n",
       "</style>\n",
       "<table border=\"1\" class=\"dataframe\">\n",
       "  <thead>\n",
       "    <tr style=\"text-align: right;\">\n",
       "      <th></th>\n",
       "      <th>modelo</th>\n",
       "      <th>tiempo_ajuste_hiperparámetros</th>\n",
       "      <th>tiempo_de_entrenamiento</th>\n",
       "      <th>tiempo_de_prueba</th>\n",
       "      <th>RECM</th>\n",
       "    </tr>\n",
       "  </thead>\n",
       "  <tbody>\n",
       "    <tr>\n",
       "      <th>0</th>\n",
       "      <td>Regresión_Lineal</td>\n",
       "      <td>0.000</td>\n",
       "      <td>13.707</td>\n",
       "      <td>0.000</td>\n",
       "      <td>0.818476</td>\n",
       "    </tr>\n",
       "    <tr>\n",
       "      <th>1</th>\n",
       "      <td>Random Forest</td>\n",
       "      <td>115.842</td>\n",
       "      <td>2.312</td>\n",
       "      <td>0.097</td>\n",
       "      <td>0.570293</td>\n",
       "    </tr>\n",
       "    <tr>\n",
       "      <th>2</th>\n",
       "      <td>CatBoost</td>\n",
       "      <td>412.858</td>\n",
       "      <td>31.243</td>\n",
       "      <td>0.194</td>\n",
       "      <td>1721.347022</td>\n",
       "    </tr>\n",
       "    <tr>\n",
       "      <th>3</th>\n",
       "      <td>LightGBM</td>\n",
       "      <td>408.525</td>\n",
       "      <td>16.561</td>\n",
       "      <td>4.195</td>\n",
       "      <td>1667.488018</td>\n",
       "    </tr>\n",
       "    <tr>\n",
       "      <th>4</th>\n",
       "      <td>XGBoost</td>\n",
       "      <td>142.588</td>\n",
       "      <td>21.178</td>\n",
       "      <td>0.326</td>\n",
       "      <td>0.487599</td>\n",
       "    </tr>\n",
       "  </tbody>\n",
       "</table>\n",
       "</div>"
      ],
      "text/plain": [
       "             modelo  tiempo_ajuste_hiperparámetros  tiempo_de_entrenamiento  \\\n",
       "0  Regresión_Lineal                          0.000                   13.707   \n",
       "1     Random Forest                        115.842                    2.312   \n",
       "2          CatBoost                        412.858                   31.243   \n",
       "3          LightGBM                        408.525                   16.561   \n",
       "4           XGBoost                        142.588                   21.178   \n",
       "\n",
       "   tiempo_de_prueba         RECM  \n",
       "0             0.000     0.818476  \n",
       "1             0.097     0.570293  \n",
       "2             0.194  1721.347022  \n",
       "3             4.195  1667.488018  \n",
       "4             0.326     0.487599  "
      ]
     },
     "execution_count": 66,
     "metadata": {},
     "output_type": "execute_result"
    }
   ],
   "source": [
    "# Trazamos una Tabla con los Resultados del RECM obtenidos\n",
    "#---------------------------------------------------------\n",
    "models_table = pd.DataFrame({\n",
    "    'modelo' : ['Regresión_Lineal', 'Random Forest', 'CatBoost', 'LightGBM', 'XGBoost'],\n",
    "    'tiempo_ajuste_hiperparámetros' : [0, 115.842, 412.858, 408.525, 142.588],\n",
    "    'tiempo_de_entrenamiento' : [13.707, 2.312, 31.243, 16.561, 21.178],\n",
    "    'tiempo_de_prueba' : [0, 0.097, 0.194, 4.195, 0.326], \n",
    "    'RECM' : [RECM_lr, RECM_rf, RECM_catboost, RECM_lightgbm, RECM_xgboost]\n",
    "})\n",
    "\n",
    "models_table"
   ]
  },
  {
   "cell_type": "code",
   "execution_count": 67,
   "metadata": {},
   "outputs": [
    {
     "data": {
      "image/png": "[encoded data removed]",
      "text/plain": [
       "<Figure size 1440x1008 with 4 Axes>"
      ]
     },
     "metadata": {},
     "output_type": "display_data"
    }
   ],
   "source": [
    "# Desarrollamos Gráficos de Barras\n",
    "#---------------------------------\n",
    "\n",
    "fig = plt.subplots(nrows=2, ncols=2, figsize=(20,14))\n",
    "sns.set_style('whitegrid')\n",
    "\n",
    "for n, col in enumerate(['tiempo_ajuste_hiperparámetros', 'tiempo_de_entrenamiento', 'tiempo_de_prueba','RECM']):\n",
    "    ax = plt.subplot(3, 2, n+1)\n",
    "    sns.barplot(x=col, y='modelo', data=models_table, ax=ax, palette=(\"ch:s=.25,rot=-.25\"))\n",
    "plt.suptitle('Análisis de Calidad y Velocidad de Modelos', fontsize=20)\n",
    "plt.tight_layout()\n",
    "plt.show()"
   ]
  },
  {
   "cell_type": "markdown",
   "metadata": {},
   "source": [
    "## || Conclusiones\n",
    "---\n",
    "\n",
    "Después de pasar un gran tiempo analizando este grandioso proyecto llegamos a las siguientes conclusiones:\n",
    "\n",
    "1. Se llevo a cabo trabajo de limpieza de datos donde corregimos valores ausentes y valores duplicados en el set de datos. Además se corrigieron los nombres de las columnas al tipo **\"snake_case\"**.\n",
    "2. Se corrigieron los tipos de columnas de fechas que se encontraban en formato de object y se transformaron a tipo datetime durante la importación del dataset. Además se corrigieron datos con valores atípicos en las columnas de `price`, `registration_year` y `power`.\n",
    "3. Desarrollamos nuestro propio modelo de regresión líneal como modelo dummy para evaluar la calidad y velocidad de los demás modelos.\n",
    "\n",
    "**Entrenamiento de Modelos**\n",
    "\n",
    "4. Se entrenaron cinco modelos: **Linear Regresion, Random Forest, CatBoost, LightGBM, XGBoost**. Para cada modelo se ajustaron hiperparámetros con la implementación de GridSearchCV y basados en los resultados de los mejores hiperparámetros se entrenó cada modelo y se realizaron predicciones. Se midió el tiempo de ajuste, entrenamiento y prueba, ya que a **Rusty Bargain** le interesa un modelo que no solo cuente con calidad sino también con velocidad.\n",
    "5. Para cada uno de los modelos se utilizaron técnicas de preprocesamiento de datos diferentes, por ejemplo **Linear Regressor, Random Forest y XGBoost** se entrenaron con características basadas en la **correlación de pearson** mientras que los modelos **CatBoost y LightGBM** se utilizaron todas las características debido a que estos modelos aceptan todas las características y pueden procesarlas sin ningún problema.\n",
    "6. Considerando la velocidad y el rendimiento de todos los modelos pensamos que **LightGBM** resulta ser el mejor modelo para esta prueba ya que cuenta con una velocidad de entrenamiento de tan solo 16 segundos y una **RECM** de 1667 considerando que se procesaron todas las características."
   ]
  },
  {
   "cell_type": "markdown",
   "metadata": {},
   "source": [
    "# Lista de control"
   ]
  },
  {
   "cell_type": "markdown",
   "metadata": {},
   "source": [
    "Escribe 'x' para verificar. Luego presiona Shift+Enter"
   ]
  },
  {
   "cell_type": "markdown",
   "metadata": {},
   "source": [
    "- [x]  Jupyter Notebook está abierto\n",
    "- [x]  El código no tiene errores\n",
    "- [x]  Las celdas con el código han sido colocadas en orden de ejecución\n",
    "- [x]  Los datos han sido descargados y preparados\n",
    "    - [x] Corrección de nombres en columnas\n",
    "    - [x] Corrección de valores duplicados\n",
    "    - [x] Imputación de valores nulos\n",
    "- [x]  Los modelos han sido entrenados\n",
    "- [x]  Se realizó el análisis de velocidad y calidad de los modelos"
   ]
  },
  {
   "cell_type": "markdown",
   "metadata": {},
   "source": [
    "## || Bibliografía\n",
    "---"
   ]
  },
  {
   "cell_type": "markdown",
   "metadata": {},
   "source": [
    "- ¿Cilindrada, Caballos y Par Motor?. Goodyear(2/Mar/2018). https://kilometrosquecuentan.goodyear.eu/coche-mas-potente-mundo/#:~:text=Hennessey%20Venom%20F5&text=Dispone%20de%20un%20motor%20V8,m%C3%A1xima%20de%20484%20km%2Fh.\n",
    "\n",
    "\n",
    "- ¿Cuál es la potencia ideal para un coche?.Mapfre(20/Mar/22).https://www.motor.mapfre.es/coches/noticias-coches/potencia-ideal-para-el-coche/\n",
    "\n",
    "\n",
    "- Cat_Boost_Regresor(Unknown Year). https://catboost.ai/en/docs/concepts/python-reference_catboostregressor\n",
    "\n",
    "\n",
    "- Light_GBM_Regressor. https://lightgbm.readthedocs.io/en/latest/pythonapi/lightgbm.LGBMRegressor.html"
   ]
  }
 ],
 "metadata": {
  "kernelspec": {
   "display_name": "Python 3 (ipykernel)",
   "language": "python",
   "name": "python3"
  },
  "language_info": {
   "codemirror_mode": {
    "name": "ipython",
    "version": 3
   },
   "file_extension": ".py",
   "mimetype": "text/x-python",
   "name": "python",
   "nbconvert_exporter": "python",
   "pygments_lexer": "ipython3",
   "version": "3.9.5"
  },
  "toc": {
   "base_numbering": 1,
   "nav_menu": {},
   "number_sections": true,
   "sideBar": true,
   "skip_h1_title": true,
   "title_cell": "Table of Contents",
   "title_sidebar": "Contents",
   "toc_cell": false,
   "toc_position": {},
   "toc_section_display": true,
   "toc_window_display": false
  }
 },
 "nbformat": 4,
 "nbformat_minor": 2
}
